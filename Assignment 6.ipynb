{
 "cells": [
  {
   "cell_type": "markdown",
   "metadata": {
    "id": "gZ7vePVNWOFr"
   },
   "source": [
    "# **`Assignment Questions 6`**"
   ]
  },
  {
   "cell_type": "markdown",
   "metadata": {},
   "source": [
    "**Question 1**\n"
   ]
  },
  {
   "cell_type": "code",
   "execution_count": 1,
   "metadata": {
    "colab": {
     "base_uri": "https://localhost:8080/"
    },
    "id": "hu-cyxyzWOFx",
    "outputId": "c5e6c5dc-9ec0-4b98-9e73-ab35c9980acd"
   },
   "outputs": [
    {
     "data": {
      "text/plain": [
       "[0, 4, 1, 3, 2]"
      ]
     },
     "execution_count": 1,
     "metadata": {},
     "output_type": "execute_result"
    }
   ],
   "source": [
    "s = \"IDID\"\n",
    "def diStringMatch(s: str) -> list[int]:\n",
    "        ans = []\n",
    "        low = 0\n",
    "        high = len(s)\n",
    "        for i in s:\n",
    "            if i==\"I\":\n",
    "                ans.append(low)\n",
    "                low+=1\n",
    "            else:\n",
    "                ans.append(high)\n",
    "                high-=1\n",
    "        ans.append(high)\n",
    "        return ans\n",
    "diStringMatch(s)"
   ]
  },
  {
   "cell_type": "markdown",
   "metadata": {},
   "source": [
    "**Question 2**\n"
   ]
  },
  {
   "cell_type": "code",
   "execution_count": 2,
   "metadata": {
    "colab": {
     "base_uri": "https://localhost:8080/"
    },
    "id": "hUYP_90yWOF2",
    "outputId": "7146630b-eaaf-4578-efa2-32b48a1eadf2"
   },
   "outputs": [
    {
     "data": {
      "text/plain": [
       "True"
      ]
     },
     "execution_count": 2,
     "metadata": {},
     "output_type": "execute_result"
    }
   ],
   "source": [
    "matrix = [[1,3,5,7],[10,11,16,20],[23,30,34,60]]\n",
    "target = 3\n",
    "def searchMatrix(matrix: list[list[int]], target: int) -> bool:\n",
    "    rows = len(matrix)\n",
    "    cols = len(matrix[0])\n",
    "    row = 0\n",
    "    for row in range(rows):\n",
    "        if matrix[row][0] > target:\n",
    "            row = row - 1\n",
    "            break\n",
    "    else:\n",
    "        row = rows - 1\n",
    "    for i in range(cols):\n",
    "        if matrix[row][i] == target:\n",
    "            return(True)\n",
    "            break\n",
    "    return(False)\n",
    "searchMatrix(matrix , target)\n"
   ]
  },
  {
   "cell_type": "markdown",
   "metadata": {},
   "source": [
    "**Question 3**\n"
   ]
  },
  {
   "cell_type": "code",
   "execution_count": 3,
   "metadata": {
    "colab": {
     "base_uri": "https://localhost:8080/"
    },
    "id": "X9SeZW2XWOF3",
    "outputId": "e08d4cd2-67da-4e49-ee38-8823796bb0a9"
   },
   "outputs": [
    {
     "name": "stdout",
     "output_type": "stream",
     "text": [
      "False\n"
     ]
    }
   ],
   "source": [
    "arr = [2,1]\n",
    "\n",
    "def validMountainArray(arr: list[int]) -> bool:\n",
    "    m = arr.index(max(arr))\n",
    "    if m == 0 or m == len(arr) -1:\n",
    "        print(False)\n",
    "    else:\n",
    "        flag = True\n",
    "        i = 0\n",
    "        while (i < m):\n",
    "            if arr[i] >= arr[i+1]:\n",
    "                flag = False\n",
    "                break\n",
    "            else:\n",
    "                i+=1\n",
    "        i = m+1\n",
    "        if (flag):\n",
    "            while i < len(arr):\n",
    "                if arr[i-1] <= arr[i]:\n",
    "                    return False\n",
    "                    break\n",
    "                else:\n",
    "                    i+=1\n",
    "        else:\n",
    "            return False\n",
    "        return True\n",
    "validMountainArray(arr)"
   ]
  },
  {
   "cell_type": "markdown",
   "metadata": {},
   "source": [
    "**Question 4**\n"
   ]
  },
  {
   "cell_type": "code",
   "execution_count": 4,
   "metadata": {
    "colab": {
     "base_uri": "https://localhost:8080/"
    },
    "id": "ot0HCOcMWOF-",
    "outputId": "7818f045-ce1e-4c5e-83a6-d6ba1fa51983"
   },
   "outputs": [
    {
     "data": {
      "text/plain": [
       "2"
      ]
     },
     "execution_count": 4,
     "metadata": {},
     "output_type": "execute_result"
    }
   ],
   "source": [
    "arr = [0,1,0]\n",
    "def findMaxLength(nums: list[int]) -> int:\n",
    "    max_length =0\n",
    "    hash={}\n",
    "    count=0\n",
    "    for i in range(len(nums)):\n",
    "        current=nums[i]\n",
    "        if current==0:\n",
    "            count-=1 # decrement our count if our current element is 0\n",
    "        else:\n",
    "            # increment our count if current element is 1\n",
    "            count+=1\n",
    "\n",
    "        if count==0:\n",
    "            # if count is 0, we have a new subarray with length+1\n",
    "            max_length=i+1\n",
    "        if count in hash:\n",
    "            max_length=max(max_length,i-hash[count])\n",
    "        else:\n",
    "            hash[count]=i\n",
    "    return max_length\n",
    "findMaxLength(arr)"
   ]
  },
  {
   "cell_type": "markdown",
   "metadata": {},
   "source": [
    "**Question 5**\n"
   ]
  },
  {
   "cell_type": "code",
   "execution_count": 5,
   "metadata": {
    "colab": {
     "base_uri": "https://localhost:8080/"
    },
    "id": "kkyEvepgWOGE",
    "outputId": "faaef4fe-870d-4237-dbda-a5874c947404"
   },
   "outputs": [
    {
     "data": {
      "text/plain": [
       "40"
      ]
     },
     "execution_count": 5,
     "metadata": {},
     "output_type": "execute_result"
    }
   ],
   "source": [
    "nums1 = [5,3,4,2]\n",
    "nums2 = [4,2,2,5]\n",
    "def minProductSum(nums1:list[int], nums2:list[int])->int:\n",
    "    \"\"\"calculates and returns the minimum product of 2 arrays\n",
    "    nums1 and nums2\n",
    "\n",
    "    Args:\n",
    "        nums1 (list[int]): array of numbers\n",
    "        nums2 (list[int]): array of numbers\n",
    "\n",
    "    Returns:\n",
    "        int: minimum product sum of 2 arrays\n",
    "    \"\"\"\n",
    "    nums1.sort()\n",
    "    nums2.sort()\n",
    "    n = len(nums1)\n",
    "\n",
    "    result = 0\n",
    "    for i in range(n):\n",
    "        result += (nums1[i] * nums2[n-i-1])\n",
    "\n",
    "    return(result)\n",
    "minProductSum(nums1, nums2)\n"
   ]
  },
  {
   "cell_type": "markdown",
   "metadata": {},
   "source": [
    "**Question 6**\n"
   ]
  },
  {
   "cell_type": "code",
   "execution_count": 6,
   "metadata": {
    "colab": {
     "base_uri": "https://localhost:8080/"
    },
    "id": "G4xrsCLhWOGF",
    "outputId": "bda5601a-4314-44e6-e49e-baa7cfd14cec"
   },
   "outputs": [
    {
     "data": {
      "text/plain": [
       "[1, 3, 4]"
      ]
     },
     "execution_count": 6,
     "metadata": {},
     "output_type": "execute_result"
    }
   ],
   "source": [
    "changed = [1,3,4,2,6,8]\n",
    "def findOriginalArray(changed: list[int]) -> list[int]:\n",
    "    \"\"\"checks if an array is doubled and returns the original\n",
    "    array or empty list\n",
    "\n",
    "    Args:\n",
    "        changed (list[int]): doubled array\n",
    "\n",
    "    Returns:\n",
    "        list[int]: original array\n",
    "    \"\"\"\n",
    "    from collections import Counter\n",
    "    if len(changed)%2!=0:return []\n",
    "    changed.sort()\n",
    "    c=Counter(changed)\n",
    "    ans=[]\n",
    "    if c[0]%2==0:\n",
    "        ans+=[0]*(c[0]//2)\n",
    "\n",
    "    for i in c:\n",
    "        if i==0 or c[i]==0:\n",
    "            continue\n",
    "        elif (i*2 not in c) or c[i]>c[i*2]:\n",
    "            return []\n",
    "        c[i*2]-=c[i]\n",
    "        ans+=[i]*c[i]\n",
    "\n",
    "    return ans\n",
    "findOriginalArray(changed)"
   ]
  },
  {
   "cell_type": "markdown",
   "metadata": {},
   "source": [
    "**Question 7**\n"
   ]
  },
  {
   "cell_type": "code",
   "execution_count": 7,
   "metadata": {
    "colab": {
     "base_uri": "https://localhost:8080/"
    },
    "id": "0QiwZAgBWOGI",
    "outputId": "afaef18e-3e6f-46e7-f1dd-4928d4303df0"
   },
   "outputs": [
    {
     "data": {
      "text/plain": [
       "[[1, 2, 3], [8, 9, 4], [7, 6, 5]]"
      ]
     },
     "execution_count": 7,
     "metadata": {},
     "output_type": "execute_result"
    }
   ],
   "source": [
    "n = 3\n",
    "def generateMatrix(n: int) -> list[list[int]]:\n",
    "        matrix = [[0]*n for _ in range(n)]\n",
    "        r, c, dr, dc = 0, 0, 0, 1\n",
    "        for current in range(1, n*n + 1):\n",
    "            matrix[r][c] = current\n",
    "            if not (0 <= r + dr < n and 0 <= c + dc < n and matrix[r + dr][c + dc] == 0):\n",
    "                dr, dc = dc, -dr\n",
    "            r += dr\n",
    "            c += dc\n",
    "        return matrix\n",
    "generateMatrix(3)\n"
   ]
  },
  {
   "cell_type": "markdown",
   "metadata": {},
   "source": [
    "**Question 8**\n"
   ]
  },
  {
   "cell_type": "code",
   "execution_count": 8,
   "metadata": {
    "colab": {
     "base_uri": "https://localhost:8080/"
    },
    "id": "GGz5usESWOGJ",
    "outputId": "258e396e-bb90-4b9f-c0ae-1c8bd1d90044"
   },
   "outputs": [
    {
     "data": {
      "text/plain": [
       "[[7, 0, 0], [-7, 0, 3]]"
      ]
     },
     "execution_count": 8,
     "metadata": {},
     "output_type": "execute_result"
    }
   ],
   "source": [
    "mat1 = [[1,0,0],[-1,0,3]]\n",
    "mat2 = [[7,0,0],[0,0,0],[0,0,1]]\n",
    "def multiply(mat1: list[list[int]], mat2: list[list[int]]) -> list[list[int]]:\n",
    "  \"\"\"sparse matrix multiplication of two matrices\n",
    "  m X l and l x n\n",
    "\n",
    "  Args:\n",
    "      mat1 (list[list[int]]): sparse matrix m x l\n",
    "      mat2 (list[list[int]]): sparse matrix l x n\n",
    "\n",
    "  Returns:\n",
    "      list[list[int]]: resulting matrix\n",
    "  \"\"\"\n",
    "  m = len(mat1)\n",
    "  n = len(mat2)\n",
    "  l = len(mat2[0])\n",
    "  ans = [[0] * l for _ in range(m)]\n",
    "  nonZeroColIndicesInMat2 = [\n",
    "      [j for j, a in enumerate(row) if a]\n",
    "      for row in mat2\n",
    "  ]\n",
    "\n",
    "  for i in range(m):\n",
    "    for j, a in enumerate(mat1[i]):\n",
    "      if a == 0:\n",
    "        continue\n",
    "      # mat1's j-th column matches mat2's j-th row\n",
    "      for colIndex in nonZeroColIndicesInMat2[j]:\n",
    "        ans[i][colIndex] += a * mat2[j][colIndex]\n",
    "\n",
    "  return ans\n",
    "multiply(mat1, mat2)"
   ]
  },
  {
   "cell_type": "code",
   "execution_count": 8,
   "metadata": {
    "id": "l6vWtP4yWOGK"
   },
   "outputs": [],
   "source": []
  }
 ],
 "metadata": {
  "colab": {
   "provenance": []
  },
  "kernelspec": {
   "display_name": "Python 3 (ipykernel)",
   "language": "python",
   "name": "python3"
  },
  "language_info": {
   "codemirror_mode": {
    "name": "ipython",
    "version": 3
   },
   "file_extension": ".py",
   "mimetype": "text/x-python",
   "name": "python",
   "nbconvert_exporter": "python",
   "pygments_lexer": "ipython3",
   "version": "3.10.8"
  }
 },
 "nbformat": 4,
 "nbformat_minor": 4
}
