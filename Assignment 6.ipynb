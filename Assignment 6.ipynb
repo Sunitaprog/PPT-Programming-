{
  "cells": [
    {
      "cell_type": "markdown",
      "metadata": {
        "id": "gZ7vePVNWOFr"
      },
      "source": [
        "# **`Assignment Questions 6`**"
      ]
    },
    {
      "cell_type": "markdown",
      "metadata": {
        "id": "lsxYcEyeWOFu"
      },
      "source": [
        "**Question 1**\n",
        "\n",
        "A permutation perm of n + 1 integers of all the integers in the range [0, n] can be represented as a string s of length n where:\n",
        "\n",
        "- s[i] == 'I' if perm[i] < perm[i + 1], and\n",
        "- s[i] == 'D' if perm[i] > perm[i + 1].\n",
        "\n",
        "Given a string s, reconstruct the permutation perm and return it. If there are multiple valid permutations perm, return **any of them**.\n",
        "\n",
        "**Example 1:**\n",
        "\n",
        "**Input:** s = \"IDID\"\n",
        "\n",
        "**Output:**\n",
        "\n",
        "[0,4,1,3,2]"
      ]
    },
    {
      "cell_type": "markdown",
      "metadata": {
        "id": "Cb6v3PhuWOFw"
      },
      "source": [
        "**LOGIC**: basically you just need to simply run D towards decrement from the length of s and I towards increment. That is if s=\"DDD\" then output is [3,2,1,0] where first 3 of array is denoting length of s and being decrementd by 1 each time when \"D\" occurs again. if there was I also, lets suppose \"DIIIDI\" then D will be decrementing and I will be incrementing by1. output => [6,0,1,2,5,3,4].\n",
        "\n",
        "Note :- D will start from the length of s and will be decreasing by 1 whenever \"D\" occurs again, and I will start from 0 and will be increasing by 1 whenever \"I\" occurs again. at the end I and D will be on same position so just push any of them in to the array at the end, and you will get your output."
      ]
    },
    {
      "cell_type": "code",
      "execution_count": 1,
      "metadata": {
        "id": "hu-cyxyzWOFx",
        "outputId": "c5e6c5dc-9ec0-4b98-9e73-ab35c9980acd",
        "colab": {
          "base_uri": "https://localhost:8080/"
        }
      },
      "outputs": [
        {
          "output_type": "execute_result",
          "data": {
            "text/plain": [
              "[0, 4, 1, 3, 2]"
            ]
          },
          "metadata": {},
          "execution_count": 1
        }
      ],
      "source": [
        "s = \"IDID\"\n",
        "def diStringMatch(s: str) -> list[int]:\n",
        "        ans = []\n",
        "        low = 0\n",
        "        high = len(s)\n",
        "        for i in s:\n",
        "            if i==\"I\":\n",
        "                ans.append(low)\n",
        "                low+=1\n",
        "            else:\n",
        "                ans.append(high)\n",
        "                high-=1\n",
        "        ans.append(high)\n",
        "        return ans\n",
        "diStringMatch(s)"
      ]
    },
    {
      "cell_type": "markdown",
      "metadata": {
        "id": "a7I9XK6gWOF1"
      },
      "source": [
        "**Question 2**\n",
        "\n",
        "You are given an m x n integer matrix matrix with the following two properties:\n",
        "\n",
        "- Each row is sorted in non-decreasing order.\n",
        "- The first integer of each row is greater than the last integer of the previous row.\n",
        "\n",
        "Given an integer target, return true *if* target *is in* matrix *or* false *otherwise*.\n",
        "\n",
        "You must write a solution in O(log(m * n)) time complexity.\n",
        "\n",
        "**Example 1:**\n",
        "\n",
        "![image.png](attachment:image.png)\n",
        "\n",
        "\n",
        "**Input:** matrix = [[1,3,5,7],[10,11,16,20],[23,30,34,60]], target = 3\n",
        "\n",
        "**Output:** true"
      ]
    },
    {
      "cell_type": "code",
      "execution_count": 2,
      "metadata": {
        "id": "hUYP_90yWOF2",
        "outputId": "7146630b-eaaf-4578-efa2-32b48a1eadf2",
        "colab": {
          "base_uri": "https://localhost:8080/"
        }
      },
      "outputs": [
        {
          "output_type": "execute_result",
          "data": {
            "text/plain": [
              "True"
            ]
          },
          "metadata": {},
          "execution_count": 2
        }
      ],
      "source": [
        "matrix = [[1,3,5,7],[10,11,16,20],[23,30,34,60]]\n",
        "target = 3\n",
        "def searchMatrix(matrix: list[list[int]], target: int) -> bool:\n",
        "    rows = len(matrix)\n",
        "    cols = len(matrix[0])\n",
        "    row = 0\n",
        "    for row in range(rows):\n",
        "        if matrix[row][0] > target:\n",
        "            row = row - 1\n",
        "            break\n",
        "    else:\n",
        "        row = rows - 1\n",
        "    for i in range(cols):\n",
        "        if matrix[row][i] == target:\n",
        "            return(True)\n",
        "            break\n",
        "    return(False)\n",
        "searchMatrix(matrix , target)\n",
        ""
      ]
    },
    {
      "cell_type": "markdown",
      "metadata": {
        "id": "xdnkFhtSWOF3"
      },
      "source": [
        "**Question 3**\n",
        "\n",
        "Given an array of integers arr, return *true if and only if it is a valid mountain array*.\n",
        "\n",
        "Recall that arr is a mountain array if and only if:\n",
        "\n",
        "- arr.length >= 3\n",
        "- There exists some i with 0 < i < arr.length - 1 such that:\n",
        "    - arr[0] < arr[1] < ... < arr[i - 1] < arr[i]\n",
        "    - arr[i] > arr[i + 1] > ... > arr[arr.length - 1]\n",
        "\n",
        "\n",
        "![image.png](attachment:image.png)\n",
        "\n",
        "**Example 1:**\n",
        "\n",
        "**Input:** arr = [2,1]\n",
        "\n",
        "**Output:**\n",
        "\n",
        "false"
      ]
    },
    {
      "cell_type": "code",
      "execution_count": 3,
      "metadata": {
        "id": "X9SeZW2XWOF3",
        "outputId": "e08d4cd2-67da-4e49-ee38-8823796bb0a9",
        "colab": {
          "base_uri": "https://localhost:8080/"
        }
      },
      "outputs": [
        {
          "output_type": "stream",
          "name": "stdout",
          "text": [
            "False\n"
          ]
        }
      ],
      "source": [
        "arr = [2,1]\n",
        "\n",
        "def validMountainArray(arr: list[int]) -> bool:\n",
        "    m = arr.index(max(arr))\n",
        "    if m == 0 or m == len(arr) -1:\n",
        "        print(False)\n",
        "    else:\n",
        "        flag = True\n",
        "        i = 0\n",
        "        while (i < m):\n",
        "            if arr[i] >= arr[i+1]:\n",
        "                flag = False\n",
        "                break\n",
        "            else:\n",
        "                i+=1\n",
        "        i = m+1\n",
        "        if (flag):\n",
        "            while i < len(arr):\n",
        "                if arr[i-1] <= arr[i]:\n",
        "                    return False\n",
        "                    break\n",
        "                else:\n",
        "                    i+=1\n",
        "        else:\n",
        "            return False\n",
        "        return True\n",
        "validMountainArray(arr)"
      ]
    },
    {
      "cell_type": "markdown",
      "metadata": {
        "id": "9RbzikYaWOF5"
      },
      "source": [
        "Question 4\n",
        "\n",
        "\n",
        "Given a binary array nums, return *the maximum length of a contiguous subarray with an equal number of* 0 *and* 1.\n",
        "\n",
        "**Example 1:**\n",
        "\n",
        "**Input:** nums = [0,1]\n",
        "\n",
        "**Output:** 2\n",
        "\n",
        "**Explanation:**\n",
        "\n",
        "[0, 1] is the longest contiguous subarray with an equal number of 0 and 1."
      ]
    },
    {
      "cell_type": "code",
      "execution_count": 4,
      "metadata": {
        "id": "ot0HCOcMWOF-",
        "outputId": "7818f045-ce1e-4c5e-83a6-d6ba1fa51983",
        "colab": {
          "base_uri": "https://localhost:8080/"
        }
      },
      "outputs": [
        {
          "output_type": "execute_result",
          "data": {
            "text/plain": [
              "2"
            ]
          },
          "metadata": {},
          "execution_count": 4
        }
      ],
      "source": [
        "arr = [0,1,0]\n",
        "def findMaxLength(nums: list[int]) -> int:\n",
        "    max_length =0\n",
        "    hash={}\n",
        "    count=0\n",
        "    for i in range(len(nums)):\n",
        "        current=nums[i]\n",
        "        if current==0:\n",
        "            count-=1 # decrement our count if our current element is 0\n",
        "        else:\n",
        "            # increment our count if current element is 1\n",
        "            count+=1\n",
        "\n",
        "        if count==0:\n",
        "            # if count is 0, we have a new subarray with length+1\n",
        "            max_length=i+1\n",
        "        if count in hash:\n",
        "            max_length=max(max_length,i-hash[count])\n",
        "        else:\n",
        "            hash[count]=i\n",
        "    return max_length\n",
        "findMaxLength(arr)"
      ]
    },
    {
      "cell_type": "markdown",
      "metadata": {
        "id": "C43BNkfvWOGA"
      },
      "source": [
        "**Question 5**\n",
        "\n",
        "The **product sum** of two equal-length arrays a and b is equal to the sum of a[i] * b[i] for all 0 <= i < a.length (**0-indexed**).\n",
        "\n",
        "- For example, if a = [1,2,3,4] and b = [5,2,3,1], the **product sum** would be 1*5 + 2*2 + 3*3 + 4*1 = 22.\n",
        "\n",
        "Given two arrays nums1 and nums2 of length n, return *the **minimum product sum** if you are allowed to **rearrange** the **order** of the elements in* nums1.\n",
        "\n",
        "**Example 1:**\n",
        "\n",
        "**Input:** nums1 = [5,3,4,2], nums2 = [4,2,2,5]\n",
        "\n",
        "**Output:** 40\n",
        "\n",
        "**Explanation:**\n",
        "\n",
        "We can rearrange nums1 to become [3,5,4,2]. The product sum of [3,5,4,2] and [4,2,2,5] is 3*4 + 5*2 + 4*2 + 2*5 = 40.\n"
      ]
    },
    {
      "cell_type": "markdown",
      "metadata": {
        "id": "fIBMfbm1WOGD"
      },
      "source": [
        "**LOGIC**: The idea is to multiply minimum element of one array to maximum element of another array. Algorithm to solve this problem:  \n",
        "\n",
        "1. Sort both the arrays A and B.\n",
        "2. Traverse the array and for each element, multiply A[i] and B[n – i – 1] and add to the total.\n",
        "\n",
        "Note: We are adding multiplication of elements which can lead to overflow conditions.\n",
        "\n",
        "Below image is an illustration of the above approach:\n",
        "\n",
        "![image.png](attachment:image.png)\n",
        "\n"
      ]
    },
    {
      "cell_type": "code",
      "execution_count": 5,
      "metadata": {
        "id": "kkyEvepgWOGE",
        "outputId": "faaef4fe-870d-4237-dbda-a5874c947404",
        "colab": {
          "base_uri": "https://localhost:8080/"
        }
      },
      "outputs": [
        {
          "output_type": "execute_result",
          "data": {
            "text/plain": [
              "40"
            ]
          },
          "metadata": {},
          "execution_count": 5
        }
      ],
      "source": [
        "nums1 = [5,3,4,2]\n",
        "nums2 = [4,2,2,5]\n",
        "def minProductSum(nums1:list[int], nums2:list[int])->int:\n",
        "    \"\"\"calculates and returns the minimum product of 2 arrays\n",
        "    nums1 and nums2\n",
        "\n",
        "    Args:\n",
        "        nums1 (list[int]): array of numbers\n",
        "        nums2 (list[int]): array of numbers\n",
        "\n",
        "    Returns:\n",
        "        int: minimum product sum of 2 arrays\n",
        "    \"\"\"\n",
        "    nums1.sort()\n",
        "    nums2.sort()\n",
        "    n = len(nums1)\n",
        "\n",
        "    result = 0\n",
        "    for i in range(n):\n",
        "        result += (nums1[i] * nums2[n-i-1])\n",
        "\n",
        "    return(result)\n",
        "minProductSum(nums1, nums2)\n"
      ]
    },
    {
      "cell_type": "markdown",
      "metadata": {
        "id": "9-aswZLUWOGF"
      },
      "source": [
        "**Question 6**\n",
        "\n",
        "An integer array original is transformed into a **doubled** array changed by appending **twice the value** of every element in original, and then randomly **shuffling** the resulting array.\n",
        "\n",
        "Given an array changed, return original *if* changed *is a **doubled** array. If* changed *is not a **doubled** array, return an empty array. The elements in* original *may be returned in **any** order*.\n",
        "\n",
        "**Example 1:**\n",
        "\n",
        "**Input:** changed = [1,3,4,2,6,8]\n",
        "\n",
        "**Output:** [1,3,4]\n",
        "\n",
        "**Explanation:** One possible original array could be [1,3,4]:\n",
        "\n",
        "- Twice the value of 1 is 1 * 2 = 2.\n",
        "- Twice the value of 3 is 3 * 2 = 6.\n",
        "- Twice the value of 4 is 4 * 2 = 8.\n",
        "\n",
        "Other original arrays could be [4,3,1] or [3,1,4]."
      ]
    },
    {
      "cell_type": "code",
      "execution_count": 6,
      "metadata": {
        "id": "G4xrsCLhWOGF",
        "outputId": "bda5601a-4314-44e6-e49e-baa7cfd14cec",
        "colab": {
          "base_uri": "https://localhost:8080/"
        }
      },
      "outputs": [
        {
          "output_type": "execute_result",
          "data": {
            "text/plain": [
              "[1, 3, 4]"
            ]
          },
          "metadata": {},
          "execution_count": 6
        }
      ],
      "source": [
        "changed = [1,3,4,2,6,8]\n",
        "def findOriginalArray(changed: list[int]) -> list[int]:\n",
        "    \"\"\"checks if an array is doubled and returns the original\n",
        "    array or empty list\n",
        "\n",
        "    Args:\n",
        "        changed (list[int]): doubled array\n",
        "\n",
        "    Returns:\n",
        "        list[int]: original array\n",
        "    \"\"\"\n",
        "    from collections import Counter\n",
        "    if len(changed)%2!=0:return []\n",
        "    changed.sort()\n",
        "    c=Counter(changed)\n",
        "    ans=[]\n",
        "    if c[0]%2==0:\n",
        "        ans+=[0]*(c[0]//2)\n",
        "\n",
        "    for i in c:\n",
        "        if i==0 or c[i]==0:\n",
        "            continue\n",
        "        elif (i*2 not in c) or c[i]>c[i*2]:\n",
        "            return []\n",
        "        c[i*2]-=c[i]\n",
        "        ans+=[i]*c[i]\n",
        "\n",
        "    return ans\n",
        "findOriginalArray(changed)"
      ]
    },
    {
      "cell_type": "markdown",
      "metadata": {
        "id": "17_1ysjzWOGG"
      },
      "source": [
        "**Question 7**\n",
        "\n",
        "Given a positive integer n, generate an n x n matrix filled with elements from 1 to n2 in spiral order.\n",
        "\n",
        "**Example 1:**\n",
        "\n",
        "![image.png](attachment:image.png)\n",
        "\n",
        "**Input:** n = 3\n",
        "\n",
        "**Output:** [[1,2,3],[8,9,4],[7,6,5]]"
      ]
    },
    {
      "cell_type": "markdown",
      "metadata": {
        "id": "8Z3YIJgDWOGH"
      },
      "source": [
        "Approach 1: Traverse Layer by Layer in Spiral Form\n",
        "Intuition\n",
        "\n",
        "If we try to build a pattern for a given nnn, we observe that the pattern repeats after completing one circular traversal around the matrix. Let's call this one circular traversal as layer. We start traversing from the outer layer and move towards inner layers on every iteration.\n",
        "\n",
        "![image.png](attachment:image.png)\n",
        "\n",
        "Algorithm\n",
        "\n",
        "Let's devise an algorithm for the spiral traversal:\n",
        "\n",
        "We can observe that, for any given nnn, the total number of layers is given by :\n",
        "⌊n+12⌋\\lfloor \\frac{n+1}{2} \\rfloor⌊\n",
        "2\n",
        "n+1\n",
        "​\n",
        " ⌋\n",
        "This works for both even and odd nnn.\n",
        "Example\n",
        "\n",
        "For n=3n = 3n=3, layers=2layers = 2layers=2\n",
        "\n",
        "For n=6n = 6n=6, total layers=3layers = 3layers=3\n",
        "\n",
        "Also, for each layer, we traverse in at most 4 directions :\n",
        "\n",
        "![image-2.png](attachment:image-2.png)\n",
        "\n",
        "In every direction, either row or column remains constant and other parameter changes (increments/decrements).\n",
        "\n",
        "Direction 1: From top left corner to top right corner.\n",
        "\n",
        "The row remains constant as layer\\text{layer}layer and column increments from layer\\text{layer}layer to n−layer−1n-\\text{layer}-1n−layer−1\n",
        "\n",
        "Direction 2: From top right corner to the bottom right corner.\n",
        "\n",
        "The column remains constant as n−layer−1n-layer-1n−layer−1 and row increments from\n",
        "layer+1\\text{layer}+1layer+1 to n−layern-\\text{layer}n−layer.\n",
        "\n",
        "Direction 3: From bottom right corner to bottom left corner.\n",
        "\n",
        "The row remains constant as n−layer−1n-\\text{layer}-1n−layer−1 and column decrements from n−layer−2n-\\text{layer}-2n−layer−2 to layer\\text{layer}layer.\n",
        "\n",
        "Direction 4: From bottom left corner to top left corner.\n",
        "\n",
        "The column remains constant as layer\\text{layer}layer and column decrements from n−layer−2n-\\text{layer}-2n−layer−2 to layer+1\\text{layer}+1layer+1.\n",
        "\n",
        "This process repeats (n+1)/2(n+1)/2(n+1)/2 times until all layers are traversed.\n",
        "\n",
        "![image-3.png](attachment:image-3.png)"
      ]
    },
    {
      "cell_type": "markdown",
      "metadata": {
        "id": "N1ysjO_0WOGH"
      },
      "source": [
        "Approach\n",
        "We initialize a 2D matrix of size n x n. We keep track of the current cell that we are in using (r, c), and the direction in which we are moving using (dr, dc).\n",
        "\n",
        "Initially, we start from the cell (0,0) and move towards the right. For each cell, we assign a number starting from 1. If the next cell in the current direction is out of bounds or already assigned, we turn 90 degrees to the right.\n",
        "\n",
        "Complexity Analysis\n",
        "Time complexity: The time complexity is O(n2), where n is the input number. This is because we have to fill up n² cells in the matrix.\n",
        "\n",
        "Space Complexity: The space complexity is also O(n2), as we need to allocate a 2D array of size n x n to store the resulting matrix."
      ]
    },
    {
      "cell_type": "code",
      "execution_count": 7,
      "metadata": {
        "id": "0QiwZAgBWOGI",
        "outputId": "afaef18e-3e6f-46e7-f1dd-4928d4303df0",
        "colab": {
          "base_uri": "https://localhost:8080/"
        }
      },
      "outputs": [
        {
          "output_type": "execute_result",
          "data": {
            "text/plain": [
              "[[1, 2, 3], [8, 9, 4], [7, 6, 5]]"
            ]
          },
          "metadata": {},
          "execution_count": 7
        }
      ],
      "source": [
        "n = 3\n",
        "def generateMatrix(n: int) -> list[list[int]]:\n",
        "        matrix = [[0]*n for _ in range(n)]\n",
        "        r, c, dr, dc = 0, 0, 0, 1\n",
        "        for current in range(1, n*n + 1):\n",
        "            matrix[r][c] = current\n",
        "            if not (0 <= r + dr < n and 0 <= c + dc < n and matrix[r + dr][c + dc] == 0):\n",
        "                dr, dc = dc, -dr\n",
        "            r += dr\n",
        "            c += dc\n",
        "        return matrix\n",
        "generateMatrix(3)\n"
      ]
    },
    {
      "cell_type": "markdown",
      "metadata": {
        "id": "8Qfh1pCnWOGI"
      },
      "source": [
        "**Question 8**\n",
        "\n",
        "Given two [sparse matrices](https://en.wikipedia.org/wiki/Sparse_matrix) mat1 of size m x k and mat2 of size k x n, return the result of mat1 x mat2. You may assume that multiplication is always possible.\n",
        "\n",
        "**Example 1:**\n",
        "\n",
        "![image.png](attachment:image.png)\n",
        "\n",
        "**Input:** mat1 = [[1,0,0],[-1,0,3]], mat2 = [[7,0,0],[0,0,0],[0,0,1]]\n",
        "\n",
        "**Output:**\n",
        "\n",
        "[[7,0,0],[-7,0,3]]\n"
      ]
    },
    {
      "cell_type": "code",
      "execution_count": 8,
      "metadata": {
        "id": "GGz5usESWOGJ",
        "outputId": "258e396e-bb90-4b9f-c0ae-1c8bd1d90044",
        "colab": {
          "base_uri": "https://localhost:8080/"
        }
      },
      "outputs": [
        {
          "output_type": "execute_result",
          "data": {
            "text/plain": [
              "[[7, 0, 0], [-7, 0, 3]]"
            ]
          },
          "metadata": {},
          "execution_count": 8
        }
      ],
      "source": [
        "mat1 = [[1,0,0],[-1,0,3]]\n",
        "mat2 = [[7,0,0],[0,0,0],[0,0,1]]\n",
        "def multiply(mat1: list[list[int]], mat2: list[list[int]]) -> list[list[int]]:\n",
        "  \"\"\"sparse matrix multiplication of two matrices\n",
        "  m X l and l x n\n",
        "\n",
        "  Args:\n",
        "      mat1 (list[list[int]]): sparse matrix m x l\n",
        "      mat2 (list[list[int]]): sparse matrix l x n\n",
        "\n",
        "  Returns:\n",
        "      list[list[int]]: resulting matrix\n",
        "  \"\"\"\n",
        "  m = len(mat1)\n",
        "  n = len(mat2)\n",
        "  l = len(mat2[0])\n",
        "  ans = [[0] * l for _ in range(m)]\n",
        "  nonZeroColIndicesInMat2 = [\n",
        "      [j for j, a in enumerate(row) if a]\n",
        "      for row in mat2\n",
        "  ]\n",
        "\n",
        "  for i in range(m):\n",
        "    for j, a in enumerate(mat1[i]):\n",
        "      if a == 0:\n",
        "        continue\n",
        "      # mat1's j-th column matches mat2's j-th row\n",
        "      for colIndex in nonZeroColIndicesInMat2[j]:\n",
        "        ans[i][colIndex] += a * mat2[j][colIndex]\n",
        "\n",
        "  return ans\n",
        "multiply(mat1, mat2)"
      ]
    },
    {
      "cell_type": "code",
      "execution_count": 8,
      "metadata": {
        "id": "l6vWtP4yWOGK"
      },
      "outputs": [],
      "source": []
    }
  ],
  "metadata": {
    "kernelspec": {
      "display_name": "Python 3",
      "language": "python",
      "name": "python3"
    },
    "language_info": {
      "codemirror_mode": {
        "name": "ipython",
        "version": 3
      },
      "file_extension": ".py",
      "mimetype": "text/x-python",
      "name": "python",
      "nbconvert_exporter": "python",
      "pygments_lexer": "ipython3",
      "version": "3.9.0"
    },
    "orig_nbformat": 4,
    "colab": {
      "provenance": []
    }
  },
  "nbformat": 4,
  "nbformat_minor": 0
}