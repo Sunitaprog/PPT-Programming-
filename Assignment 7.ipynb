{
  "cells": [
    {
      "cell_type": "markdown",
      "metadata": {
        "id": "_q0L47AXWoT-"
      },
      "source": [
        "**Question 1**\n",
        "\n",
        "Given two strings s and t, *determine if they are isomorphic*.\n",
        "\n",
        "Two strings s and t are isomorphic if the characters in s can be replaced to get t.\n",
        "\n",
        "All occurrences of a character must be replaced with another character while preserving the order of characters. No two characters may map to the same character, but a character may map to itself.\n",
        "\n",
        "**Example 1:**\n",
        "\n",
        "**Input:** s = \"egg\", t = \"add\"\n",
        "\n",
        "**Output:** true"
      ]
    },
    {
      "cell_type": "code",
      "execution_count": 1,
      "metadata": {
        "id": "8gloUA6-WoUJ",
        "outputId": "9d955e96-6a0b-430a-850b-e6a63e31fc45",
        "colab": {
          "base_uri": "https://localhost:8080/"
        }
      },
      "outputs": [
        {
          "output_type": "execute_result",
          "data": {
            "text/plain": [
              "True"
            ]
          },
          "metadata": {},
          "execution_count": 1
        }
      ],
      "source": [
        "s = \"egg\"\n",
        "t = \"add\"\n",
        "def isIsomorphic(s: str, t: str) -> bool:\n",
        "    \"\"\"checks if 2 strings are isomorphic to each other\n",
        "\n",
        "    Args:\n",
        "        s (str): string to check\n",
        "        t (str): string to check\n",
        "\n",
        "    Returns:\n",
        "        bool: True if isomorphic else False\n",
        "    \"\"\"\n",
        "    return len(set(s)) == len(set(t))\n",
        "isIsomorphic(s,t)"
      ]
    },
    {
      "cell_type": "markdown",
      "metadata": {
        "id": "YGq-97zuWoUO"
      },
      "source": [
        "**Question 2**\n",
        "\n",
        "Given a string num which represents an integer, return true *if* num *is a **strobogrammatic number***.\n",
        "\n",
        "A **strobogrammatic number** is a number that looks the same when rotated 180 degrees (looked at upside down).\n",
        "\n",
        "**Example 1:**\n",
        "\n",
        "**Input:** num = \"69\"\n",
        "\n",
        "**Output:**\n",
        "\n",
        "true"
      ]
    },
    {
      "cell_type": "markdown",
      "metadata": {
        "id": "SQQPSeg9WoUP"
      },
      "source": [
        "**Algorithm**:\n",
        "There are actually few numbers that meet this condition, only 0,1,8,6,9.\n",
        "\n",
        "This question can actually be regarded as a special case of finding the number of palindromes, or use double pointers to detect it.\n",
        "\n",
        "If the first and last two numbers are equal, only if they are one of 0,1,8,\n",
        "If they are not equal, one is 6 and the other is 9, or one is 9 and the other is 6.\n",
        "All other cases return false"
      ]
    },
    {
      "cell_type": "code",
      "execution_count": 2,
      "metadata": {
        "id": "ojx87diYWoUc",
        "outputId": "6935aff0-f73e-4a3e-e7e7-ee88864dc28c",
        "colab": {
          "base_uri": "https://localhost:8080/"
        }
      },
      "outputs": [
        {
          "output_type": "execute_result",
          "data": {
            "text/plain": [
              "True"
            ]
          },
          "metadata": {},
          "execution_count": 2
        }
      ],
      "source": [
        "num = \"69\"\n",
        "def isStrobogrammatic(num):\n",
        "    \"\"\"\n",
        "    :type num: str\n",
        "    :rtype: bool\n",
        "    \"\"\"\n",
        "    start , end , legal = 0 , -1 , \"01869\"\n",
        "    while start < end:\n",
        "        if \"\".join(sorted(num[start],num[end])) not in [\"00\",\"11\",\"88\",\"69\"]:\n",
        "            return False\n",
        "        start+=1\n",
        "        end-=1\n",
        "    return True\n",
        "isStrobogrammatic(num)"
      ]
    },
    {
      "cell_type": "markdown",
      "metadata": {
        "id": "KwVt59XEWoUe"
      },
      "source": [
        "**Question 3**\n",
        "\n",
        "Given two non-negative integers, num1 and num2 represented as string, return *the sum of* num1 *and* num2 *as a string*.\n",
        "\n",
        "You must solve the problem without using any built-in library for handling large integers (such as BigInteger). You must also not convert the inputs to integers directly.\n",
        "\n",
        "**Example 1:**\n",
        "\n",
        "**Input:** num1 = \"11\", num2 = \"123\"\n",
        "\n",
        "**Output:**\n",
        "\n",
        "\"134\""
      ]
    },
    {
      "cell_type": "code",
      "execution_count": 3,
      "metadata": {
        "id": "-X5aYV9OWoUe",
        "outputId": "58ee830e-d792-4697-b36e-11ab677ca71c",
        "colab": {
          "base_uri": "https://localhost:8080/",
          "height": 35
        }
      },
      "outputs": [
        {
          "output_type": "execute_result",
          "data": {
            "text/plain": [
              "'134'"
            ],
            "application/vnd.google.colaboratory.intrinsic+json": {
              "type": "string"
            }
          },
          "metadata": {},
          "execution_count": 3
        }
      ],
      "source": [
        "num1 = \"11\"\n",
        "num2 = \"123\"\n",
        "class Solution:\n",
        "\n",
        "    def str_to_num(self , s:str)->int:\n",
        "        sum1 = 0\n",
        "        for i in s:\n",
        "            sum1 = sum1*10 + int(i)\n",
        "        return (sum1)\n",
        "\n",
        "    def addStrings(self , num1: str, num2: str) -> str:\n",
        "        \"\"\"Takes 2 non negative numbers as strings and adds\n",
        "        them together and returns a string representation of the result\n",
        "\n",
        "        Args:\n",
        "            num1 (str): string representation of the first number\n",
        "            num2 (str): string representation of the second number\n",
        "\n",
        "        Returns:\n",
        "            str: string representation of the sum\n",
        "        \"\"\"\n",
        "        a = self.str_to_num(num1)\n",
        "\n",
        "        b = self.str_to_num(num2)\n",
        "\n",
        "        return str(a+b)\n",
        "\n",
        "obj = Solution()\n",
        "obj.addStrings(num1 , num2)\n",
        "\n",
        ""
      ]
    },
    {
      "cell_type": "markdown",
      "metadata": {
        "id": "D53zGUyaWoUf"
      },
      "source": [
        "**Question 4**\n",
        "\n",
        "Given a string s, reverse the order of characters in each word within a sentence while still preserving whitespace and initial word order.\n",
        "\n",
        "**Example 1:**\n",
        "\n",
        "**Input:** s = \"Let's take LeetCode contest\"\n",
        "\n",
        "**Output:** \"s'teL ekat edoCteeL tsetnoc\""
      ]
    },
    {
      "cell_type": "code",
      "execution_count": 4,
      "metadata": {
        "id": "5dq_ZnF_WoUg",
        "outputId": "89a56fff-82bd-4706-83c0-c3374a90c292",
        "colab": {
          "base_uri": "https://localhost:8080/",
          "height": 35
        }
      },
      "outputs": [
        {
          "output_type": "execute_result",
          "data": {
            "text/plain": [
              "\"s'teL ekat edoCteeL tsetnoc\""
            ],
            "application/vnd.google.colaboratory.intrinsic+json": {
              "type": "string"
            }
          },
          "metadata": {},
          "execution_count": 4
        }
      ],
      "source": [
        "s = \"Let's take LeetCode contest\"\n",
        "\n",
        "def stringWordReversal(s:str)->str:\n",
        "    \"\"\"takes a string s and returns it\n",
        "    with all the words reversed\n",
        "\n",
        "    Args:\n",
        "        s (str): string\n",
        "\n",
        "    Returns:\n",
        "        str: string with all the words reversed\n",
        "    \"\"\"\n",
        "    return \" \".join([i[::-1] for i in s.split()])\n",
        "stringWordReversal(s)"
      ]
    },
    {
      "cell_type": "markdown",
      "metadata": {
        "id": "3VGb3vrUWoUn"
      },
      "source": [
        "**Question 5**\n",
        "\n",
        "Given a string s and an integer k, reverse the first k characters for every 2k characters counting from the start of the string.\n",
        "\n",
        "If there are fewer than k characters left, reverse all of them. If there are less than 2k but greater than or equal to k characters, then reverse the first k characters and leave the other as original.\n",
        "\n",
        "**Example 1:**\n",
        "\n",
        "**Input:** s = \"abcdefg\", k = 2\n",
        "\n",
        "**Output:**\n",
        "\n",
        "\"bacdfeg\""
      ]
    },
    {
      "cell_type": "code",
      "execution_count": 5,
      "metadata": {
        "id": "vwQCr6IlWoUo",
        "outputId": "a4401372-0c62-4c4d-d4c6-057a6b7e8275",
        "colab": {
          "base_uri": "https://localhost:8080/",
          "height": 35
        }
      },
      "outputs": [
        {
          "output_type": "execute_result",
          "data": {
            "text/plain": [
              "'bacdfeg'"
            ],
            "application/vnd.google.colaboratory.intrinsic+json": {
              "type": "string"
            }
          },
          "metadata": {},
          "execution_count": 5
        }
      ],
      "source": [
        "s = \"abcdefg\"\n",
        "k = 2\n",
        "def reverseStr(s, k):\n",
        "        a = list(s)\n",
        "        for i in range(0, len(a), 2*k):\n",
        "            a[i:i+k] = reversed(a[i:i+k])\n",
        "        return \"\".join(a)\n",
        "reverseStr(s,k)"
      ]
    },
    {
      "cell_type": "markdown",
      "metadata": {
        "id": "F1zuSOwoWoUp"
      },
      "source": [
        "**Question 6**\n",
        "\n",
        "Given two strings s and goal, return true *if and only if* s *can become* goal *after some number of **shifts** on* s.\n",
        "\n",
        "A **shift** on s consists of moving the leftmost character of s to the rightmost position.\n",
        "\n",
        "- For example, if s = \"abcde\", then it will be \"bcdea\" after one shift.\n",
        "\n",
        "**Example 1:**\n",
        "\n",
        "**Input:** s = \"abcde\", goal = \"cdeab\"\n",
        "\n",
        "**Output:**\n",
        "\n",
        "true"
      ]
    },
    {
      "cell_type": "code",
      "execution_count": 6,
      "metadata": {
        "id": "geELdTpNWoUp",
        "outputId": "23a83cd9-e769-498d-bddd-ad2991e2a7a6",
        "colab": {
          "base_uri": "https://localhost:8080/"
        }
      },
      "outputs": [
        {
          "output_type": "execute_result",
          "data": {
            "text/plain": [
              "True"
            ]
          },
          "metadata": {},
          "execution_count": 6
        }
      ],
      "source": [
        "s = \"abcde\"\n",
        "goal = \"cdeab\"\n",
        "def strShift(s:str, goal:str)->bool:\n",
        "    \"\"\"checks if a given string s can become\n",
        "    string goal after some number of shifts\n",
        "\n",
        "    Args:\n",
        "        s (str): string\n",
        "        goal (str): goal string\n",
        "    Returns:\n",
        "        bool: True if s can become goal else False\n",
        "    \"\"\"\n",
        "    for i in range(len(s)):\n",
        "        s = s[-1]+s[:-1]\n",
        "        if s == goal:\n",
        "            return True\n",
        "    return False\n",
        "strShift(s,goal)"
      ]
    },
    {
      "cell_type": "markdown",
      "metadata": {
        "id": "2P4MXhMHWoUq"
      },
      "source": [
        "**Question 7**\n",
        "\n",
        "Given two strings s and t, return true *if they are equal when both are typed into empty text editors*. '#' means a backspace character.\n",
        "\n",
        "Note that after backspacing an empty text, the text will continue empty.\n",
        "\n",
        "**Example 1:**\n",
        "\n",
        "**Input:** s = \"ab#c\", t = \"ad#c\"\n",
        "\n",
        "**Output:** true\n",
        "\n",
        "**Explanation:**\n",
        "\n",
        "Both s and t become \"ac\"."
      ]
    },
    {
      "cell_type": "code",
      "execution_count": 7,
      "metadata": {
        "id": "WnRfXBbOWoUq",
        "outputId": "bdfbf096-49ea-4b6a-b250-8cb011716c47",
        "colab": {
          "base_uri": "https://localhost:8080/"
        }
      },
      "outputs": [
        {
          "output_type": "execute_result",
          "data": {
            "text/plain": [
              "True"
            ]
          },
          "metadata": {},
          "execution_count": 7
        }
      ],
      "source": [
        "s = \"ab#c\"\n",
        "t = \"ad#c\"\n",
        "def backspaceCompare(S, T):\n",
        "        def build(S):\n",
        "            ans = []\n",
        "            for c in S:\n",
        "                if c != '#':\n",
        "                    ans.append(c)\n",
        "                elif ans:\n",
        "                    ans.pop()\n",
        "            return \"\".join(ans)\n",
        "        return build(S) == build(T)\n",
        "backspaceCompare(s,t)"
      ]
    },
    {
      "cell_type": "markdown",
      "metadata": {
        "id": "cxhCR6NhWoUr"
      },
      "source": [
        "**Question 8**\n",
        "\n",
        "You are given an array coordinates, coordinates[i] = [x, y], where [x, y] represents the coordinate of a point. Check if these points make a straight line in the XY plane.\n",
        "\n",
        "**Example 1:**\n",
        "\n",
        "![image.png](attachment:image.png)\n",
        "\n",
        "**Input:** coordinates = [[1,2],[2,3],[3,4],[4,5],[5,6],[6,7]]\n",
        "\n",
        "**Output:** true"
      ]
    },
    {
      "cell_type": "code",
      "execution_count": 8,
      "metadata": {
        "id": "GS5axh1mWoUr",
        "outputId": "8b5e4457-3652-4d35-cca0-3b0da31aa872",
        "colab": {
          "base_uri": "https://localhost:8080/"
        }
      },
      "outputs": [
        {
          "output_type": "execute_result",
          "data": {
            "text/plain": [
              "True"
            ]
          },
          "metadata": {},
          "execution_count": 8
        }
      ],
      "source": [
        "coordinates = [[1,2],[2,3],[3,4],[4,5],[5,6],[6,7]]\n",
        "def straightLineCheck(coordinates: list[list[int]])->bool:\n",
        "    \"\"\"check if the given coordinates are on a straight line\n",
        "\n",
        "    Args:\n",
        "        coordinates (list[list[int]]): points\n",
        "\n",
        "    Returns:\n",
        "        bool: True if points are on a straight line\n",
        "    \"\"\"\n",
        "    if(coordinates[1][0]-coordinates[0][0]==0):\n",
        "            s=1e9\n",
        "    else:\n",
        "        s=(coordinates[1][1]-coordinates[0][1])//(coordinates[1][0]-coordinates[0][0])\n",
        "    for i in range(1,len(coordinates)):\n",
        "        slope=1e9\n",
        "        if(coordinates[i][0]-coordinates[i-1][0]!=0):\n",
        "            slope=(coordinates[i][1]-coordinates[i-1][1])//(coordinates[i][0]-coordinates[i-1][0])\n",
        "        if(slope!=s):\n",
        "            return False\n",
        "    return True\n",
        "straightLineCheck(coordinates)"
      ]
    },
    {
      "cell_type": "code",
      "source": [],
      "metadata": {
        "id": "QPWjdLqQWucb"
      },
      "execution_count": 8,
      "outputs": []
    }
  ],
  "metadata": {
    "kernelspec": {
      "display_name": "Python 3",
      "language": "python",
      "name": "python3"
    },
    "language_info": {
      "codemirror_mode": {
        "name": "ipython",
        "version": 3
      },
      "file_extension": ".py",
      "mimetype": "text/x-python",
      "name": "python",
      "nbconvert_exporter": "python",
      "pygments_lexer": "ipython3",
      "version": "3.9.0"
    },
    "orig_nbformat": 4,
    "colab": {
      "provenance": []
    }
  },
  "nbformat": 4,
  "nbformat_minor": 0
}