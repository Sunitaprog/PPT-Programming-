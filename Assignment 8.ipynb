{
 "cells": [
  {
   "cell_type": "markdown",
   "id": "018f5a3f-b8aa-4d9c-88a7-aa5d693b4405",
   "metadata": {},
   "source": [
    " **Question 1**\n",
    "\n",
    "Given two strings s1 and s2, return *the lowest **ASCII** sum of deleted characters to make two strings equal*.\n",
    "\n",
    "**Example 1:**\n",
    "\n",
    "**Input:** s1 = \"sea\", s2 = \"eat\"\n",
    "\n",
    "**Output:** 231\n",
    "\n",
    "**Explanation:** Deleting \"s\" from \"sea\" adds the ASCII value of \"s\" (115) to the sum.\n",
    "\n",
    "Deleting \"t\" from \"eat\" adds 116 to the sum.\n",
    "\n",
    "At the end, both strings are equal, and 115 + 116 = 231 is the minimum sum possible to achieve this.\n",
    "\n"
   ]
  },
  {
   "cell_type": "code",
   "execution_count": 2,
   "id": "0107baab-b42f-4e01-9bd7-bd1fbd7b1026",
   "metadata": {},
   "outputs": [
    {
     "name": "stdout",
     "output_type": "stream",
     "text": [
      "231\n"
     ]
    }
   ],
   "source": [
    "def minimumDeleteSum(s1, s2):\n",
    "    m, n = len(s1), len(s2)\n",
    "    dp = [[0] * (n+1) for _ in range(m+1)]\n",
    "\n",
    "    # Base cases\n",
    "    for j in range(1, n+1):\n",
    "        dp[0][j] = dp[0][j-1] + ord(s2[j-1])\n",
    "    for i in range(1, m+1):\n",
    "        dp[i][0] = dp[i-1][0] + ord(s1[i-1])\n",
    "\n",
    "    # Fill the dp array\n",
    "    for i in range(1, m+1):\n",
    "        for j in range(1, n+1):\n",
    "            if s1[i-1] == s2[j-1]:\n",
    "                dp[i][j] = dp[i-1][j-1]\n",
    "            else:\n",
    "                dp[i][j] = min(dp[i-1][j] + ord(s1[i-1]), dp[i][j-1] + ord(s2[j-1]))\n",
    "\n",
    "    return dp[m][n]\n",
    "\n",
    "s1=\"sea\"\n",
    "s2=\"eat\"\n",
    "result= minimumDeleteSum(s1, s2)\n",
    "print(result)\n",
    "\n",
    "\n"
   ]
  },
  {
   "cell_type": "markdown",
   "id": "b319a759-6203-4a66-993a-7f10349897d0",
   "metadata": {},
   "source": [
    "**Question 2**\n",
    "\n",
    "Given a string s containing only three types of characters: '(', ')' and '*', return true *if* s *is **valid***.\n",
    "\n",
    "The following rules define a **valid** string:\n",
    "\n",
    "- Any left parenthesis '(' must have a corresponding right parenthesis ')'.\n",
    "- Any right parenthesis ')' must have a corresponding left parenthesis '('.\n",
    "- Left parenthesis '(' must go before the corresponding right parenthesis ')'.\n",
    "- '*' could be treated as a single right parenthesis ')' or a single left parenthesis '(' or an empty string \"\".\n",
    "\n",
    "**Example 1:**\n",
    "\n",
    "**Input:** s = \"()\"\n",
    "\n",
    "**Output:**\n",
    "\n",
    "true\n",
    "\n"
   ]
  },
  {
   "cell_type": "code",
   "execution_count": 3,
   "id": "1a0b6abb-9640-4b5c-b697-63537a7c9a88",
   "metadata": {},
   "outputs": [
    {
     "name": "stdout",
     "output_type": "stream",
     "text": [
      "True\n"
     ]
    }
   ],
   "source": [
    "def checkValidString(s):\n",
    "    stack = []\n",
    "    \n",
    "    for char in s:\n",
    "        if char == '(' or char == '*':\n",
    "            stack.append(char)\n",
    "        elif char == ')':\n",
    "            if stack and stack[-1] == '(':\n",
    "                stack.pop()\n",
    "            elif stack and stack[-1] == '*':\n",
    "                stack.pop()\n",
    "            else:\n",
    "                return False\n",
    "    \n",
    "    while stack:\n",
    "        if stack[-1] == '(':\n",
    "            return False\n",
    "        stack.pop()\n",
    "    \n",
    "    return True\n",
    "\n",
    "s = \"()\"\n",
    "print(checkValidString(s))\n",
    "\n"
   ]
  },
  {
   "cell_type": "markdown",
   "id": "3d77979b-5770-4a50-b745-7fc32a0c37e1",
   "metadata": {},
   "source": [
    "**Question 3**\n",
    "\n",
    "Given two strings word1 and word2, return *the minimum number of **steps** required to make* word1 *and* word2 *the same*.\n",
    "\n",
    "In one **step**, you can delete exactly one character in either string.\n",
    "\n",
    "**Example 1:**\n",
    "\n",
    "**Input:** word1 = \"sea\", word2 = \"eat\"\n",
    "\n",
    "**Output:** 2\n",
    "\n",
    "**Explanation:** You need one step to make \"sea\" to \"ea\" and another step to make \"eat\" to \"ea\".\n",
    "\n"
   ]
  },
  {
   "cell_type": "code",
   "execution_count": 4,
   "id": "c0dd8ea8-91fb-4b2e-a66d-0c324de7d50b",
   "metadata": {},
   "outputs": [
    {
     "name": "stdout",
     "output_type": "stream",
     "text": [
      "2\n"
     ]
    }
   ],
   "source": [
    "def minSteps(word1, word2):\n",
    "    m, n = len(word1), len(word2)\n",
    "    \n",
    "    # Initialize the table\n",
    "    dp = [[0] * (n + 1) for _ in range(m + 1)]\n",
    "    \n",
    "    # Fill in the base cases\n",
    "    for i in range(m + 1):\n",
    "        dp[i][0] = i\n",
    "    for j in range(n + 1):\n",
    "        dp[0][j] = j\n",
    "    \n",
    "    # Compute the minimum number of steps\n",
    "    for i in range(1, m + 1):\n",
    "        for j in range(1, n + 1):\n",
    "            if word1[i - 1] == word2[j - 1]:\n",
    "                dp[i][j] = dp[i - 1][j - 1]\n",
    "            else:\n",
    "                dp[i][j] = min(dp[i - 1][j], dp[i][j - 1]) + 1\n",
    "    \n",
    "    return dp[m][n]\n",
    "\n",
    "word1 = \"sea\"\n",
    "word2 = \"eat\"\n",
    "print(minSteps(word1, word2))\n"
   ]
  },
  {
   "cell_type": "markdown",
   "id": "108acba6-e6f3-4761-821e-53ab40b2e577",
   "metadata": {},
   "source": [
    " **Question 4**\n",
    "\n",
    "You need to construct a binary tree from a string consisting of parenthesis and integers.\n",
    "\n",
    "The whole input represents a binary tree. It contains an integer followed by zero, one or two pairs of parenthesis. The integer represents the root's value and a pair of parenthesis contains a child binary tree with the same structure.\n",
    "You always start to construct the **left** child node of the parent first if it exists.\n",
    "\n",
    "![Screenshot 2023-05-29 010548.png](https://s3-us-west-2.amazonaws.com/secure.notion-static.com/bdbea2d1-34a4-4c4b-a450-ea6db7410c43/Screenshot_2023-05-29_010548.png)\n",
    "\n",
    "**Input:** s = \"4(2(3)(1))(6(5))\"\n",
    "\n",
    "**Output:** [4,2,6,3,1,5]\n",
    "\n"
   ]
  },
  {
   "cell_type": "code",
   "execution_count": 5,
   "id": "a9e5c52e-ecba-4e1c-b5fb-38172c53cf79",
   "metadata": {},
   "outputs": [],
   "source": [
    "class TreeNode:\n",
    "    def __init__(self, val=0, left=None, right=None):\n",
    "        self.val = val\n",
    "        self.left = left\n",
    "        self.right = right\n",
    "\n",
    "\n",
    "def buildTreeFromString(s):\n",
    "    if not s:\n",
    "        return None\n",
    "\n",
    "    # Find the index of the first opening parenthesis\n",
    "    root_val_end = s.find(\"(\")\n",
    "    if root_val_end == -1:\n",
    "        # No child nodes, only a root value\n",
    "        return TreeNode(int(s))\n",
    "\n",
    "    # Create the root node\n",
    "    root_val = int(s[:root_val_end])\n",
    "    root = TreeNode(root_val)\n",
    "\n",
    "    # Find the index of the matching closing parenthesis\n",
    "    count = 0\n",
    "    left_start = root_val_end\n",
    "    for i in range(root_val_end, len(s)):\n",
    "        if s[i] == \"(\":\n",
    "            count += 1\n",
    "        elif s[i] == \")\":\n",
    "            count -= 1\n",
    "        if count == 0:\n",
    "            left_end = i\n",
    "            break\n",
    "\n",
    "    # Extract the left subtree substring\n",
    "    left_subtree = s[left_start + 1 : left_end]\n",
    "\n",
    "    # Build the left subtree recursively\n",
    "    root.left = buildTreeFromString(left_subtree)\n",
    "\n",
    "    # Extract the right subtree substring\n",
    "    right_subtree = s[left_end + 2 : -1]\n",
    "\n",
    "    # Build the right subtree recursively\n",
    "    root.right = buildTreeFromString(right_subtree)\n",
    "\n",
    "    return root\n"
   ]
  },
  {
   "cell_type": "code",
   "execution_count": 6,
   "id": "bc77e553-179a-4322-ae9b-b44c69f41f87",
   "metadata": {},
   "outputs": [
    {
     "name": "stdout",
     "output_type": "stream",
     "text": [
      "[3, 2, 1, 4, 5, 6]\n"
     ]
    }
   ],
   "source": [
    "s = \"4(2(3)(1))(6(5))\"\n",
    "tree = buildTreeFromString(s)\n",
    "\n",
    "# Helper function to traverse the tree in in-order traversal\n",
    "def inorderTraversal(node, result):\n",
    "    if node:\n",
    "        inorderTraversal(node.left, result)\n",
    "        result.append(node.val)\n",
    "        inorderTraversal(node.right, result)\n",
    "\n",
    "result = []\n",
    "inorderTraversal(tree, result)\n",
    "print(result)\n"
   ]
  },
  {
   "cell_type": "markdown",
   "id": "788dd5d5-331c-4a45-8467-84bc2bb8f469",
   "metadata": {},
   "source": [
    "\n",
    " **Question 5**\n",
    "\n",
    "Given an array of characters chars, compress it using the following algorithm:\n",
    "\n",
    "Begin with an empty string s. For each group of **consecutive repeating characters** in chars:\n",
    "\n",
    "- If the group's length is 1, append the character to s.\n",
    "- Otherwise, append the character followed by the group's length.\n",
    "\n",
    "The compressed string s **should not be returned separately**, but instead, be stored **in the input character array chars**. Note that group lengths that are 10 or longer will be split into multiple characters in chars.\n",
    "\n",
    "After you are done **modifying the input array,** return *the new length of the array*.\n",
    "\n",
    "You must write an algorithm that uses only constant extra space.\n",
    "\n",
    "**Example 1:**\n",
    "\n",
    "**Input:** chars = [\"a\",\"a\",\"b\",\"b\",\"c\",\"c\",\"c\"]\n",
    "\n",
    "**Output:** Return 6, and the first 6 characters of the input array should be: [\"a\",\"2\",\"b\",\"2\",\"c\",\"3\"]\n",
    "\n",
    "**Explanation:**\n",
    "\n",
    "The groups are \"aa\", \"bb\", and \"ccc\". This compresses to \"a2b2c3\".\n"
   ]
  },
  {
   "cell_type": "code",
   "execution_count": 7,
   "id": "382c1d89-04af-4851-8bcb-8bd223081708",
   "metadata": {},
   "outputs": [
    {
     "name": "stdout",
     "output_type": "stream",
     "text": [
      "6\n",
      "['a', '2', 'b', '2', 'c', '3']\n"
     ]
    }
   ],
   "source": [
    "def compress(chars):\n",
    "    write = 0\n",
    "    read = 0\n",
    "    count = 1\n",
    "    \n",
    "    while read < len(chars):\n",
    "        if read + 1 == len(chars) or chars[read] != chars[read + 1]:\n",
    "            chars[write] = chars[read]\n",
    "            write += 1\n",
    "            if count > 1:\n",
    "                for digit in str(count):\n",
    "                    chars[write] = digit\n",
    "                    write += 1\n",
    "            count = 1\n",
    "        else:\n",
    "            count += 1\n",
    "        read += 1\n",
    "    \n",
    "    return write\n",
    "\n",
    "chars = [\"a\", \"a\", \"b\", \"b\", \"c\", \"c\", \"c\"]\n",
    "new_length = compress(chars)\n",
    "print(new_length)\n",
    "print(chars[:new_length])\n"
   ]
  },
  {
   "cell_type": "markdown",
   "id": "2321a995-6a5d-44c1-9bf0-81a60b7057ca",
   "metadata": {},
   "source": [
    " **Question 6**\n",
    "\n",
    "Given two strings s and p, return *an array of all the start indices of* p*'s anagrams in* s. You may return the answer in **any order**.\n",
    "\n",
    "An **Anagram** is a word or phrase formed by rearranging the letters of a different word or phrase, typically using all the original letters exactly once.\n",
    "\n",
    "**Example 1:**\n",
    "\n",
    "**Input:** s = \"cbaebabacd\", p = \"abc\"\n",
    "\n",
    "**Output:** [0,6]\n",
    "\n",
    "**Explanation:**\n",
    "\n",
    "The substring with start index = 0 is \"cba\", which is an anagram of \"abc\".\n",
    "\n",
    "The substring with start index = 6 is \"bac\", which is an anagram of \"abc\".\n",
    "\n"
   ]
  },
  {
   "cell_type": "code",
   "execution_count": 9,
   "id": "df400b46-1acd-48e9-a94a-cc765d5b0f5d",
   "metadata": {},
   "outputs": [
    {
     "name": "stdout",
     "output_type": "stream",
     "text": [
      "[0, 6]\n"
     ]
    }
   ],
   "source": [
    "from collections import Counter\n",
    "\n",
    "def findAnagrams(s, p):\n",
    "    freq_p = Counter(p)\n",
    "    freq_window = Counter()\n",
    "    result = []\n",
    "    left = 0\n",
    "    right = 0\n",
    "\n",
    "    while right < len(s):\n",
    "        freq_window[s[right]] += 1\n",
    "        if right - left + 1 == len(p):\n",
    "            if freq_window == freq_p:\n",
    "                result.append(left)\n",
    "            freq_window[s[left]] -= 1\n",
    "            if freq_window[s[left]] == 0:\n",
    "                del freq_window[s[left]]\n",
    "            left += 1\n",
    "        right += 1\n",
    "\n",
    "    return result\n",
    "\n",
    "s = \"cbaebabacd\"\n",
    "p = \"abc\"\n",
    "result = findAnagrams(s, p)\n",
    "print(result)\n",
    "\n",
    "\n"
   ]
  },
  {
   "cell_type": "markdown",
   "id": "a08fd359-d3ba-4d65-ac93-77a14a5a8cd8",
   "metadata": {},
   "source": [
    " **Question 7**\n",
    "\n",
    "Given an encoded string, return its decoded string.\n",
    "\n",
    "The encoding rule is: k[encoded_string], where the encoded_string inside the square brackets is being repeated exactly k times. Note that k is guaranteed to be a positive integer.\n",
    "\n",
    "You may assume that the input string is always valid; there are no extra white spaces, square brackets are well-formed, etc. Furthermore, you may assume that the original data does not contain any digits and that digits are only for those repeat numbers, k. For example, there will not be input like 3a or 2[4].\n",
    "\n",
    "The test cases are generated so that the length of the output will never exceed 105.\n",
    "\n",
    "**Example 1:**\n",
    "\n",
    "**Input:** s = \"3[a]2[bc]\"\n",
    "\n",
    "**Output:** \"aaabcbc\"\n"
   ]
  },
  {
   "cell_type": "code",
   "execution_count": 10,
   "id": "1f2ed70f-b675-421f-98d5-8dae352d90b7",
   "metadata": {},
   "outputs": [
    {
     "name": "stdout",
     "output_type": "stream",
     "text": [
      "bcbcaaa\n"
     ]
    }
   ],
   "source": [
    "def decodeString(s):\n",
    "    stack = []\n",
    "\n",
    "    for c in s:\n",
    "        if c.isdigit():\n",
    "            stack.append(int(c))\n",
    "        elif c.isalpha():\n",
    "            stack.append(c)\n",
    "        elif c == \"[\":\n",
    "            stack.append(\"[\")\n",
    "        elif c == \"]\":\n",
    "            substring = \"\"\n",
    "            while stack[-1] != \"[\":\n",
    "                substring = stack.pop() + substring\n",
    "            stack.pop()  # Pop the opening bracket\n",
    "            count = stack.pop()\n",
    "            stack.append(substring * count)\n",
    "\n",
    "    decoded_string = \"\".join(stack[::-1])\n",
    "    return decoded_string\n",
    "\n",
    "s = \"3[a]2[bc]\"\n",
    "decoded = decodeString(s)\n",
    "print(decoded)\n"
   ]
  },
  {
   "cell_type": "markdown",
   "id": "ac3fe264-e38e-4d59-aa9e-fa27a94745cb",
   "metadata": {},
   "source": [
    " **Question 8**\n",
    "\n",
    "Given two strings s and goal, return true *if you can swap two letters in* s *so the result is equal to* goal*, otherwise, return* false*.*\n",
    "\n",
    "Swapping letters is defined as taking two indices i and j (0-indexed) such that i != j and swapping the characters at s[i] and s[j].\n",
    "\n",
    "- For example, swapping at indices 0 and 2 in \"abcd\" results in \"cbad\".\n",
    "\n",
    "**Example 1:**\n",
    "\n",
    "**Input:** s = \"ab\", goal = \"ba\"\n",
    "\n",
    "**Output:** true\n",
    "\n",
    "**Explanation:** You can swap s[0] = 'a' and s[1] = 'b' to get \"ba\", which is equal to goal.\n"
   ]
  },
  {
   "cell_type": "code",
   "execution_count": 12,
   "id": "3b454ca1-607b-4b9b-b72e-5fc6bd4027a2",
   "metadata": {},
   "outputs": [
    {
     "name": "stdout",
     "output_type": "stream",
     "text": [
      "True\n"
     ]
    }
   ],
   "source": [
    "def buddyStrings(s, goal):\n",
    "    if len(s) != len(goal):\n",
    "        return False\n",
    "\n",
    "    diff_indices = []\n",
    "    diff_chars = []\n",
    "\n",
    "    for i in range(len(s)):\n",
    "        if s[i] != goal[i]:\n",
    "            diff_indices.append(i)\n",
    "            diff_chars.append(s[i])\n",
    "\n",
    "    if len(diff_indices) != 2:\n",
    "        return False\n",
    "\n",
    "    i, j = diff_indices\n",
    "\n",
    "    if s[i] == goal[j] and s[j] == goal[i]:\n",
    "        return True\n",
    "\n",
    "    return False\n",
    "s = \"ab\"\n",
    "goal = \"ba\"\n",
    "result = buddyStrings(s, goal)\n",
    "print(result)\n"
   ]
  },
  {
   "cell_type": "code",
   "execution_count": null,
   "id": "24867dad-e2e0-46fc-81ea-f19cf1863bf8",
   "metadata": {},
   "outputs": [],
   "source": []
  }
 ],
 "metadata": {
  "kernelspec": {
   "display_name": "Python 3 (ipykernel)",
   "language": "python",
   "name": "python3"
  },
  "language_info": {
   "codemirror_mode": {
    "name": "ipython",
    "version": 3
   },
   "file_extension": ".py",
   "mimetype": "text/x-python",
   "name": "python",
   "nbconvert_exporter": "python",
   "pygments_lexer": "ipython3",
   "version": "3.10.8"
  }
 },
 "nbformat": 4,
 "nbformat_minor": 5
}
