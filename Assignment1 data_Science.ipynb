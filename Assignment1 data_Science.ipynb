{
  "nbformat": 4,
  "nbformat_minor": 0,
  "metadata": {
    "colab": {
      "provenance": []
    },
    "kernelspec": {
      "name": "python3",
      "display_name": "Python 3"
    },
    "language_info": {
      "name": "python"
    }
  },
  "cells": [
    {
      "cell_type": "markdown",
      "source": [
        "## Q1. Write a Python program to reverse a string without using any built-in string reversal functions.\n"
      ],
      "metadata": {
        "id": "-iWNy9XuRjTD"
      }
    },
    {
      "cell_type": "code",
      "source": [
        "my_string=(\"Sunita\")\n",
        "str=\"\"\n",
        "for i in my_string:\n",
        "    str=i+str\n",
        "print(\"Reversed string : \" ,str)"
      ],
      "metadata": {
        "colab": {
          "base_uri": "https://localhost:8080/"
        },
        "id": "cGQKJy5bQb5p",
        "outputId": "a6d36550-8f77-4678-8563-5d67eaf47308"
      },
      "execution_count": 1,
      "outputs": [
        {
          "output_type": "stream",
          "name": "stdout",
          "text": [
            "Reversed string :  atinuS\n"
          ]
        }
      ]
    },
    {
      "cell_type": "markdown",
      "source": [
        "## Q2. Implement a function to check if a given string is a palindrome."
      ],
      "metadata": {
        "id": "m7NTsDR_RrJI"
      }
    },
    {
      "cell_type": "code",
      "source": [
        "string = input(\"Enter the string\")\n",
        "if (string == string[::-1]):\n",
        "  print(\"The string is palindrom\")\n",
        "else:\n",
        "  print(\"The string is not palindrom\")"
      ],
      "metadata": {
        "colab": {
          "base_uri": "https://localhost:8080/"
        },
        "id": "lWjMin7pQKhp",
        "outputId": "e2553a00-45ef-45cc-97c6-9bbc06c3f049"
      },
      "execution_count": 2,
      "outputs": [
        {
          "output_type": "stream",
          "name": "stdout",
          "text": [
            "Enter the stringsunita\n",
            "The string is not palindrom\n"
          ]
        }
      ]
    },
    {
      "cell_type": "markdown",
      "source": [
        "## Q3. Write a program to find the largest element in a given list.\n"
      ],
      "metadata": {
        "id": "YmY0Zf4EXLMj"
      }
    },
    {
      "cell_type": "code",
      "source": [
        "a=[1,20,13,9,15]\n",
        "a.sort()\n",
        "print(\"Largest element is:\", a[-1])\n",
        "\n",
        "\n"
      ],
      "metadata": {
        "colab": {
          "base_uri": "https://localhost:8080/"
        },
        "id": "IRdcdxohQLHY",
        "outputId": "988bc822-9df1-488a-feb6-69aa34c66832"
      },
      "execution_count": 3,
      "outputs": [
        {
          "output_type": "stream",
          "name": "stdout",
          "text": [
            "Largest element is: 20\n"
          ]
        }
      ]
    },
    {
      "cell_type": "markdown",
      "source": [
        "## Q4. Implement a function to count the occurrence of each element in a list."
      ],
      "metadata": {
        "id": "_ggOKcgMXyhW"
      }
    },
    {
      "cell_type": "code",
      "source": [
        "def count_occurrences(lst):\n",
        "    counts = {}\n",
        "    for item in lst:\n",
        "        if item in counts:\n",
        "            counts[item] += 1\n",
        "        else:\n",
        "            counts[item] = 1\n",
        "    return counts\n",
        "\n",
        "\n",
        "my_list = [1, 2, 3, 2, 4, 1, 2, 3, 4, 5]\n",
        "occurrence_counts = count_occurrences(my_list)\n",
        "print(occurrence_counts)\n"
      ],
      "metadata": {
        "colab": {
          "base_uri": "https://localhost:8080/"
        },
        "id": "MUEMwdXjYOM7",
        "outputId": "28d94e6d-97b4-41f6-8baf-2982906b628c"
      },
      "execution_count": 4,
      "outputs": [
        {
          "output_type": "stream",
          "name": "stdout",
          "text": [
            "{1: 2, 2: 3, 3: 2, 4: 2, 5: 1}\n"
          ]
        }
      ]
    },
    {
      "cell_type": "markdown",
      "source": [
        "## Q5. Write a Python program to find the second largest number in a list.\n"
      ],
      "metadata": {
        "id": "LrOTwwE5Y20R"
      }
    },
    {
      "cell_type": "code",
      "source": [
        "a=[2,3,12,94,23,34,56]\n",
        "a.sort()\n",
        "print(\"Second Largest no is \" ,a[-2])"
      ],
      "metadata": {
        "colab": {
          "base_uri": "https://localhost:8080/"
        },
        "id": "DVhm5tKGY5vh",
        "outputId": "6e32ad70-0e81-4415-fbad-409b9b539c31"
      },
      "execution_count": 5,
      "outputs": [
        {
          "output_type": "stream",
          "name": "stdout",
          "text": [
            "Second Largest no is  56\n"
          ]
        }
      ]
    },
    {
      "cell_type": "markdown",
      "source": [
        "## Q6. Implement a function to remove duplicate elements from a list.\n"
      ],
      "metadata": {
        "id": "a8teePvtZpH5"
      }
    },
    {
      "cell_type": "code",
      "source": [
        "a=[2,3,4,3,4,5,6,7,9,7,9]\n",
        "res=[]\n",
        "for i in a:\n",
        "  if i not in res:\n",
        "    res.append(i)\n",
        "print(res)\n"
      ],
      "metadata": {
        "colab": {
          "base_uri": "https://localhost:8080/"
        },
        "id": "ZKgNOB7nZVwI",
        "outputId": "4f1a0a12-97c6-4408-e02e-e6af1ec4fd44"
      },
      "execution_count": 6,
      "outputs": [
        {
          "output_type": "stream",
          "name": "stdout",
          "text": [
            "[2, 3, 4, 5, 6, 7, 9]\n"
          ]
        }
      ]
    },
    {
      "cell_type": "markdown",
      "source": [
        "## Q7. Write a program to calculate the factorial of a given number.\n"
      ],
      "metadata": {
        "id": "Jx54O7_uTtJI"
      }
    },
    {
      "cell_type": "code",
      "source": [
        "def fact(num):\n",
        "  if num==0:\n",
        "    return 1\n",
        "  else:\n",
        "    return num*fact(num-1)\n",
        "\n",
        "x=fact(5)\n",
        "print(x)"
      ],
      "metadata": {
        "colab": {
          "base_uri": "https://localhost:8080/"
        },
        "id": "xLw64PjjSh5w",
        "outputId": "c650407e-5f52-4b3b-89d3-cce113d709c8"
      },
      "execution_count": 7,
      "outputs": [
        {
          "output_type": "stream",
          "name": "stdout",
          "text": [
            "120\n"
          ]
        }
      ]
    },
    {
      "cell_type": "markdown",
      "source": [
        "## Q8. Implement a function to check if a given number is prime.\n"
      ],
      "metadata": {
        "id": "TfI_6juOUj60"
      }
    },
    {
      "cell_type": "code",
      "source": [
        "number=int(input(\"Enter the number \"))\n",
        "prime=True\n",
        "for i in range(2,number):\n",
        "    if (number%1==0):\n",
        "      prime=False\n",
        "      break\n",
        "if prime:\n",
        "  print(\" This number is prime :\")\n",
        "else:\n",
        "  print(\"This is not prime\")"
      ],
      "metadata": {
        "colab": {
          "base_uri": "https://localhost:8080/"
        },
        "id": "UX9flnL9UG7l",
        "outputId": "e9c17b5a-5b0a-4eb8-e87e-c665fe75207c"
      },
      "execution_count": 8,
      "outputs": [
        {
          "output_type": "stream",
          "name": "stdout",
          "text": [
            "Enter the number 23\n",
            "This is not prime\n"
          ]
        }
      ]
    },
    {
      "cell_type": "markdown",
      "source": [
        "## Q9. Write a Python program to sort a list of integers in ascending order.\n"
      ],
      "metadata": {
        "id": "zga8T9opW9gg"
      }
    },
    {
      "cell_type": "code",
      "source": [
        "def sort_list(lst):\n",
        "    return sorted(lst)\n",
        "\n",
        "my_list = [5, 2, 9, 1, 7, 3]\n",
        "sorted_list = sort_list(my_list)\n",
        "print(\"Sorted list:\", sorted_list)\n"
      ],
      "metadata": {
        "colab": {
          "base_uri": "https://localhost:8080/"
        },
        "id": "pWN-rO8GXBgK",
        "outputId": "429d3129-2588-45a6-8f22-dc8f14fbc0ba"
      },
      "execution_count": 9,
      "outputs": [
        {
          "output_type": "stream",
          "name": "stdout",
          "text": [
            "Sorted list: [1, 2, 3, 5, 7, 9]\n"
          ]
        }
      ]
    },
    {
      "cell_type": "markdown",
      "source": [
        "## Q10. Implement a function to find the sum of all numbers in a list.\n"
      ],
      "metadata": {
        "id": "S-FtO3dFb3vV"
      }
    },
    {
      "cell_type": "code",
      "source": [
        "def calculate_sum(lst):\n",
        "    return sum(lst)\n",
        "\n",
        "# Example usage\n",
        "my_list = [1, 2, 3, 4, 5]\n",
        "sum_of_numbers = calculate_sum(my_list)\n",
        "print(\"Sum of numbers:\", sum_of_numbers)\n"
      ],
      "metadata": {
        "colab": {
          "base_uri": "https://localhost:8080/"
        },
        "id": "wmHJI9mJb6Mf",
        "outputId": "626c8b41-89ab-4bda-e734-17e0f4e0df08"
      },
      "execution_count": 10,
      "outputs": [
        {
          "output_type": "stream",
          "name": "stdout",
          "text": [
            "Sum of numbers: 15\n"
          ]
        }
      ]
    },
    {
      "cell_type": "markdown",
      "source": [
        "## Q11. Write a program to find the common elements between two lists.\n"
      ],
      "metadata": {
        "id": "myIu8hRhcQ1a"
      }
    },
    {
      "cell_type": "code",
      "source": [
        "def find_common_elements(list1, list2):\n",
        "    common_elements = []\n",
        "    for element in list1:\n",
        "        if element in list2 and element not in common_elements:\n",
        "            common_elements.append(element)\n",
        "    return common_elements\n",
        "\n",
        "# Example usage\n",
        "list1 = [1, 2, 3, 4, 5]\n",
        "list2 = [4, 5, 6, 7, 8]\n",
        "common_elements = find_common_elements(list1, list2)\n",
        "print(\"Common elements:\", common_elements)\n"
      ],
      "metadata": {
        "colab": {
          "base_uri": "https://localhost:8080/"
        },
        "id": "qrmU0l99cJbE",
        "outputId": "5b2a2f4c-60b0-4405-9e61-83c8e9c03d31"
      },
      "execution_count": 11,
      "outputs": [
        {
          "output_type": "stream",
          "name": "stdout",
          "text": [
            "Common elements: [4, 5]\n"
          ]
        }
      ]
    },
    {
      "cell_type": "markdown",
      "source": [
        "## Q12. Implement a function to check if a given string is an anagram of another string.\n"
      ],
      "metadata": {
        "id": "hICxULs0ci_V"
      }
    },
    {
      "cell_type": "code",
      "source": [
        "def is_anagram(string1, string2):\n",
        "    # Remove spaces and convert to lowercase\n",
        "    string1 = string1.replace(\" \", \"\").lower()\n",
        "    string2 = string2.replace(\" \", \"\").lower()\n",
        "\n",
        "    # Check if the lengths are equal\n",
        "    if len(string1) != len(string2):\n",
        "        return False\n",
        "\n",
        "    # Create dictionaries to count character occurrences\n",
        "    count1 = {}\n",
        "    count2 = {}\n",
        "\n",
        "    # Count character occurrences in string1\n",
        "    for char in string1:\n",
        "        if char in count1:\n",
        "            count1[char] += 1\n",
        "        else:\n",
        "            count1[char] = 1\n",
        "\n",
        "    # Count character occurrences in string2\n",
        "    for char in string2:\n",
        "        if char in count2:\n",
        "            count2[char] += 1\n",
        "        else:\n",
        "            count2[char] = 1\n",
        "\n",
        "    # Compare the dictionaries\n",
        "    if count1 == count2:\n",
        "        return True\n",
        "    else:\n",
        "        return False\n",
        "\n",
        "# Example usage\n",
        "input_string1 = input(\"Enter the first string: \")\n",
        "input_string2 = input(\"Enter the second string: \")\n",
        "\n",
        "if is_anagram(input_string1, input_string2):\n",
        "    print(\"The strings are anagrams.\")\n",
        "else:\n",
        "    print(\"The strings are not anagrams.\")\n"
      ],
      "metadata": {
        "colab": {
          "base_uri": "https://localhost:8080/"
        },
        "id": "dF2myGw4conG",
        "outputId": "c76be899-e459-441b-9f55-79b172d882c3"
      },
      "execution_count": 12,
      "outputs": [
        {
          "output_type": "stream",
          "name": "stdout",
          "text": [
            "Enter the first string: sunita\n",
            "Enter the second string: deswal\n",
            "The strings are not anagrams.\n"
          ]
        }
      ]
    },
    {
      "cell_type": "markdown",
      "source": [
        "## Q13. Write a Python program to generate all permutations of a given string.\n"
      ],
      "metadata": {
        "id": "Hu6F_uhBl4O4"
      }
    },
    {
      "cell_type": "code",
      "source": [
        "def generate_permutations(string):\n",
        "    # Base case: If the string has only one character, return it as the only permutation\n",
        "    if len(string) == 1:\n",
        "        return [string]\n",
        "\n",
        "    # List to store all permutations\n",
        "    permutations = []\n",
        "\n",
        "    # Generate permutations for each character in the string\n",
        "    for i in range(len(string)):\n",
        "        # Extract the current character\n",
        "        current_char = string[i]\n",
        "\n",
        "        # Generate permutations of the remaining characters\n",
        "        remaining_chars = string[:i] + string[i + 1:]\n",
        "        remaining_permutations = generate_permutations(remaining_chars)\n",
        "\n",
        "        # Add the current character to the beginning of each permutation\n",
        "        for permutation in remaining_permutations:\n",
        "            permutations.append(current_char + permutation)\n",
        "\n",
        "    return permutations\n",
        "\n",
        "# Example usage\n",
        "input_string = input(\"Enter a string: \")\n",
        "permutations = generate_permutations(input_string)\n",
        "print(\"Permutations:\")\n",
        "for permutation in permutations:\n",
        "    print(permutation)\n",
        "\n"
      ],
      "metadata": {
        "colab": {
          "base_uri": "https://localhost:8080/"
        },
        "id": "623o8xk7luht",
        "outputId": "b26fc99d-4b7d-4849-ba16-f307ffcf69e2"
      },
      "execution_count": 13,
      "outputs": [
        {
          "output_type": "stream",
          "name": "stdout",
          "text": [
            "Enter a string: sunita\n",
            "Permutations:\n",
            "sunita\n",
            "suniat\n",
            "suntia\n",
            "suntai\n",
            "sunait\n",
            "sunati\n",
            "suinta\n",
            "suinat\n",
            "suitna\n",
            "suitan\n",
            "suiant\n",
            "suiatn\n",
            "sutnia\n",
            "sutnai\n",
            "sutina\n",
            "sutian\n",
            "sutani\n",
            "sutain\n",
            "suanit\n",
            "suanti\n",
            "suaint\n",
            "suaitn\n",
            "suatni\n",
            "suatin\n",
            "snuita\n",
            "snuiat\n",
            "snutia\n",
            "snutai\n",
            "snuait\n",
            "snuati\n",
            "sniuta\n",
            "sniuat\n",
            "snitua\n",
            "snitau\n",
            "sniaut\n",
            "sniatu\n",
            "sntuia\n",
            "sntuai\n",
            "sntiua\n",
            "sntiau\n",
            "sntaui\n",
            "sntaiu\n",
            "snauit\n",
            "snauti\n",
            "snaiut\n",
            "snaitu\n",
            "snatui\n",
            "snatiu\n",
            "siunta\n",
            "siunat\n",
            "siutna\n",
            "siutan\n",
            "siuant\n",
            "siuatn\n",
            "sinuta\n",
            "sinuat\n",
            "sintua\n",
            "sintau\n",
            "sinaut\n",
            "sinatu\n",
            "situna\n",
            "situan\n",
            "sitnua\n",
            "sitnau\n",
            "sitaun\n",
            "sitanu\n",
            "siaunt\n",
            "siautn\n",
            "sianut\n",
            "siantu\n",
            "siatun\n",
            "siatnu\n",
            "stunia\n",
            "stunai\n",
            "stuina\n",
            "stuian\n",
            "stuani\n",
            "stuain\n",
            "stnuia\n",
            "stnuai\n",
            "stniua\n",
            "stniau\n",
            "stnaui\n",
            "stnaiu\n",
            "stiuna\n",
            "stiuan\n",
            "stinua\n",
            "stinau\n",
            "stiaun\n",
            "stianu\n",
            "stauni\n",
            "stauin\n",
            "stanui\n",
            "staniu\n",
            "staiun\n",
            "stainu\n",
            "saunit\n",
            "saunti\n",
            "sauint\n",
            "sauitn\n",
            "sautni\n",
            "sautin\n",
            "sanuit\n",
            "sanuti\n",
            "saniut\n",
            "sanitu\n",
            "santui\n",
            "santiu\n",
            "saiunt\n",
            "saiutn\n",
            "sainut\n",
            "saintu\n",
            "saitun\n",
            "saitnu\n",
            "satuni\n",
            "satuin\n",
            "satnui\n",
            "satniu\n",
            "satiun\n",
            "satinu\n",
            "usnita\n",
            "usniat\n",
            "usntia\n",
            "usntai\n",
            "usnait\n",
            "usnati\n",
            "usinta\n",
            "usinat\n",
            "usitna\n",
            "usitan\n",
            "usiant\n",
            "usiatn\n",
            "ustnia\n",
            "ustnai\n",
            "ustina\n",
            "ustian\n",
            "ustani\n",
            "ustain\n",
            "usanit\n",
            "usanti\n",
            "usaint\n",
            "usaitn\n",
            "usatni\n",
            "usatin\n",
            "unsita\n",
            "unsiat\n",
            "unstia\n",
            "unstai\n",
            "unsait\n",
            "unsati\n",
            "unista\n",
            "unisat\n",
            "unitsa\n",
            "unitas\n",
            "uniast\n",
            "uniats\n",
            "untsia\n",
            "untsai\n",
            "untisa\n",
            "untias\n",
            "untasi\n",
            "untais\n",
            "unasit\n",
            "unasti\n",
            "unaist\n",
            "unaits\n",
            "unatsi\n",
            "unatis\n",
            "uisnta\n",
            "uisnat\n",
            "uistna\n",
            "uistan\n",
            "uisant\n",
            "uisatn\n",
            "uinsta\n",
            "uinsat\n",
            "uintsa\n",
            "uintas\n",
            "uinast\n",
            "uinats\n",
            "uitsna\n",
            "uitsan\n",
            "uitnsa\n",
            "uitnas\n",
            "uitasn\n",
            "uitans\n",
            "uiasnt\n",
            "uiastn\n",
            "uianst\n",
            "uiants\n",
            "uiatsn\n",
            "uiatns\n",
            "utsnia\n",
            "utsnai\n",
            "utsina\n",
            "utsian\n",
            "utsani\n",
            "utsain\n",
            "utnsia\n",
            "utnsai\n",
            "utnisa\n",
            "utnias\n",
            "utnasi\n",
            "utnais\n",
            "utisna\n",
            "utisan\n",
            "utinsa\n",
            "utinas\n",
            "utiasn\n",
            "utians\n",
            "utasni\n",
            "utasin\n",
            "utansi\n",
            "utanis\n",
            "utaisn\n",
            "utains\n",
            "uasnit\n",
            "uasnti\n",
            "uasint\n",
            "uasitn\n",
            "uastni\n",
            "uastin\n",
            "uansit\n",
            "uansti\n",
            "uanist\n",
            "uanits\n",
            "uantsi\n",
            "uantis\n",
            "uaisnt\n",
            "uaistn\n",
            "uainst\n",
            "uaints\n",
            "uaitsn\n",
            "uaitns\n",
            "uatsni\n",
            "uatsin\n",
            "uatnsi\n",
            "uatnis\n",
            "uatisn\n",
            "uatins\n",
            "nsuita\n",
            "nsuiat\n",
            "nsutia\n",
            "nsutai\n",
            "nsuait\n",
            "nsuati\n",
            "nsiuta\n",
            "nsiuat\n",
            "nsitua\n",
            "nsitau\n",
            "nsiaut\n",
            "nsiatu\n",
            "nstuia\n",
            "nstuai\n",
            "nstiua\n",
            "nstiau\n",
            "nstaui\n",
            "nstaiu\n",
            "nsauit\n",
            "nsauti\n",
            "nsaiut\n",
            "nsaitu\n",
            "nsatui\n",
            "nsatiu\n",
            "nusita\n",
            "nusiat\n",
            "nustia\n",
            "nustai\n",
            "nusait\n",
            "nusati\n",
            "nuista\n",
            "nuisat\n",
            "nuitsa\n",
            "nuitas\n",
            "nuiast\n",
            "nuiats\n",
            "nutsia\n",
            "nutsai\n",
            "nutisa\n",
            "nutias\n",
            "nutasi\n",
            "nutais\n",
            "nuasit\n",
            "nuasti\n",
            "nuaist\n",
            "nuaits\n",
            "nuatsi\n",
            "nuatis\n",
            "nisuta\n",
            "nisuat\n",
            "nistua\n",
            "nistau\n",
            "nisaut\n",
            "nisatu\n",
            "niusta\n",
            "niusat\n",
            "niutsa\n",
            "niutas\n",
            "niuast\n",
            "niuats\n",
            "nitsua\n",
            "nitsau\n",
            "nitusa\n",
            "nituas\n",
            "nitasu\n",
            "nitaus\n",
            "niasut\n",
            "niastu\n",
            "niaust\n",
            "niauts\n",
            "niatsu\n",
            "niatus\n",
            "ntsuia\n",
            "ntsuai\n",
            "ntsiua\n",
            "ntsiau\n",
            "ntsaui\n",
            "ntsaiu\n",
            "ntusia\n",
            "ntusai\n",
            "ntuisa\n",
            "ntuias\n",
            "ntuasi\n",
            "ntuais\n",
            "ntisua\n",
            "ntisau\n",
            "ntiusa\n",
            "ntiuas\n",
            "ntiasu\n",
            "ntiaus\n",
            "ntasui\n",
            "ntasiu\n",
            "ntausi\n",
            "ntauis\n",
            "ntaisu\n",
            "ntaius\n",
            "nasuit\n",
            "nasuti\n",
            "nasiut\n",
            "nasitu\n",
            "nastui\n",
            "nastiu\n",
            "nausit\n",
            "nausti\n",
            "nauist\n",
            "nauits\n",
            "nautsi\n",
            "nautis\n",
            "naisut\n",
            "naistu\n",
            "naiust\n",
            "naiuts\n",
            "naitsu\n",
            "naitus\n",
            "natsui\n",
            "natsiu\n",
            "natusi\n",
            "natuis\n",
            "natisu\n",
            "natius\n",
            "isunta\n",
            "isunat\n",
            "isutna\n",
            "isutan\n",
            "isuant\n",
            "isuatn\n",
            "isnuta\n",
            "isnuat\n",
            "isntua\n",
            "isntau\n",
            "isnaut\n",
            "isnatu\n",
            "istuna\n",
            "istuan\n",
            "istnua\n",
            "istnau\n",
            "istaun\n",
            "istanu\n",
            "isaunt\n",
            "isautn\n",
            "isanut\n",
            "isantu\n",
            "isatun\n",
            "isatnu\n",
            "iusnta\n",
            "iusnat\n",
            "iustna\n",
            "iustan\n",
            "iusant\n",
            "iusatn\n",
            "iunsta\n",
            "iunsat\n",
            "iuntsa\n",
            "iuntas\n",
            "iunast\n",
            "iunats\n",
            "iutsna\n",
            "iutsan\n",
            "iutnsa\n",
            "iutnas\n",
            "iutasn\n",
            "iutans\n",
            "iuasnt\n",
            "iuastn\n",
            "iuanst\n",
            "iuants\n",
            "iuatsn\n",
            "iuatns\n",
            "insuta\n",
            "insuat\n",
            "instua\n",
            "instau\n",
            "insaut\n",
            "insatu\n",
            "inusta\n",
            "inusat\n",
            "inutsa\n",
            "inutas\n",
            "inuast\n",
            "inuats\n",
            "intsua\n",
            "intsau\n",
            "intusa\n",
            "intuas\n",
            "intasu\n",
            "intaus\n",
            "inasut\n",
            "inastu\n",
            "inaust\n",
            "inauts\n",
            "inatsu\n",
            "inatus\n",
            "itsuna\n",
            "itsuan\n",
            "itsnua\n",
            "itsnau\n",
            "itsaun\n",
            "itsanu\n",
            "itusna\n",
            "itusan\n",
            "itunsa\n",
            "itunas\n",
            "ituasn\n",
            "ituans\n",
            "itnsua\n",
            "itnsau\n",
            "itnusa\n",
            "itnuas\n",
            "itnasu\n",
            "itnaus\n",
            "itasun\n",
            "itasnu\n",
            "itausn\n",
            "itauns\n",
            "itansu\n",
            "itanus\n",
            "iasunt\n",
            "iasutn\n",
            "iasnut\n",
            "iasntu\n",
            "iastun\n",
            "iastnu\n",
            "iausnt\n",
            "iaustn\n",
            "iaunst\n",
            "iaunts\n",
            "iautsn\n",
            "iautns\n",
            "iansut\n",
            "ianstu\n",
            "ianust\n",
            "ianuts\n",
            "iantsu\n",
            "iantus\n",
            "iatsun\n",
            "iatsnu\n",
            "iatusn\n",
            "iatuns\n",
            "iatnsu\n",
            "iatnus\n",
            "tsunia\n",
            "tsunai\n",
            "tsuina\n",
            "tsuian\n",
            "tsuani\n",
            "tsuain\n",
            "tsnuia\n",
            "tsnuai\n",
            "tsniua\n",
            "tsniau\n",
            "tsnaui\n",
            "tsnaiu\n",
            "tsiuna\n",
            "tsiuan\n",
            "tsinua\n",
            "tsinau\n",
            "tsiaun\n",
            "tsianu\n",
            "tsauni\n",
            "tsauin\n",
            "tsanui\n",
            "tsaniu\n",
            "tsaiun\n",
            "tsainu\n",
            "tusnia\n",
            "tusnai\n",
            "tusina\n",
            "tusian\n",
            "tusani\n",
            "tusain\n",
            "tunsia\n",
            "tunsai\n",
            "tunisa\n",
            "tunias\n",
            "tunasi\n",
            "tunais\n",
            "tuisna\n",
            "tuisan\n",
            "tuinsa\n",
            "tuinas\n",
            "tuiasn\n",
            "tuians\n",
            "tuasni\n",
            "tuasin\n",
            "tuansi\n",
            "tuanis\n",
            "tuaisn\n",
            "tuains\n",
            "tnsuia\n",
            "tnsuai\n",
            "tnsiua\n",
            "tnsiau\n",
            "tnsaui\n",
            "tnsaiu\n",
            "tnusia\n",
            "tnusai\n",
            "tnuisa\n",
            "tnuias\n",
            "tnuasi\n",
            "tnuais\n",
            "tnisua\n",
            "tnisau\n",
            "tniusa\n",
            "tniuas\n",
            "tniasu\n",
            "tniaus\n",
            "tnasui\n",
            "tnasiu\n",
            "tnausi\n",
            "tnauis\n",
            "tnaisu\n",
            "tnaius\n",
            "tisuna\n",
            "tisuan\n",
            "tisnua\n",
            "tisnau\n",
            "tisaun\n",
            "tisanu\n",
            "tiusna\n",
            "tiusan\n",
            "tiunsa\n",
            "tiunas\n",
            "tiuasn\n",
            "tiuans\n",
            "tinsua\n",
            "tinsau\n",
            "tinusa\n",
            "tinuas\n",
            "tinasu\n",
            "tinaus\n",
            "tiasun\n",
            "tiasnu\n",
            "tiausn\n",
            "tiauns\n",
            "tiansu\n",
            "tianus\n",
            "tasuni\n",
            "tasuin\n",
            "tasnui\n",
            "tasniu\n",
            "tasiun\n",
            "tasinu\n",
            "tausni\n",
            "tausin\n",
            "taunsi\n",
            "taunis\n",
            "tauisn\n",
            "tauins\n",
            "tansui\n",
            "tansiu\n",
            "tanusi\n",
            "tanuis\n",
            "tanisu\n",
            "tanius\n",
            "taisun\n",
            "taisnu\n",
            "taiusn\n",
            "taiuns\n",
            "tainsu\n",
            "tainus\n",
            "asunit\n",
            "asunti\n",
            "asuint\n",
            "asuitn\n",
            "asutni\n",
            "asutin\n",
            "asnuit\n",
            "asnuti\n",
            "asniut\n",
            "asnitu\n",
            "asntui\n",
            "asntiu\n",
            "asiunt\n",
            "asiutn\n",
            "asinut\n",
            "asintu\n",
            "asitun\n",
            "asitnu\n",
            "astuni\n",
            "astuin\n",
            "astnui\n",
            "astniu\n",
            "astiun\n",
            "astinu\n",
            "ausnit\n",
            "ausnti\n",
            "ausint\n",
            "ausitn\n",
            "austni\n",
            "austin\n",
            "aunsit\n",
            "aunsti\n",
            "aunist\n",
            "aunits\n",
            "auntsi\n",
            "auntis\n",
            "auisnt\n",
            "auistn\n",
            "auinst\n",
            "auints\n",
            "auitsn\n",
            "auitns\n",
            "autsni\n",
            "autsin\n",
            "autnsi\n",
            "autnis\n",
            "autisn\n",
            "autins\n",
            "ansuit\n",
            "ansuti\n",
            "ansiut\n",
            "ansitu\n",
            "anstui\n",
            "anstiu\n",
            "anusit\n",
            "anusti\n",
            "anuist\n",
            "anuits\n",
            "anutsi\n",
            "anutis\n",
            "anisut\n",
            "anistu\n",
            "aniust\n",
            "aniuts\n",
            "anitsu\n",
            "anitus\n",
            "antsui\n",
            "antsiu\n",
            "antusi\n",
            "antuis\n",
            "antisu\n",
            "antius\n",
            "aisunt\n",
            "aisutn\n",
            "aisnut\n",
            "aisntu\n",
            "aistun\n",
            "aistnu\n",
            "aiusnt\n",
            "aiustn\n",
            "aiunst\n",
            "aiunts\n",
            "aiutsn\n",
            "aiutns\n",
            "ainsut\n",
            "ainstu\n",
            "ainust\n",
            "ainuts\n",
            "aintsu\n",
            "aintus\n",
            "aitsun\n",
            "aitsnu\n",
            "aitusn\n",
            "aituns\n",
            "aitnsu\n",
            "aitnus\n",
            "atsuni\n",
            "atsuin\n",
            "atsnui\n",
            "atsniu\n",
            "atsiun\n",
            "atsinu\n",
            "atusni\n",
            "atusin\n",
            "atunsi\n",
            "atunis\n",
            "atuisn\n",
            "atuins\n",
            "atnsui\n",
            "atnsiu\n",
            "atnusi\n",
            "atnuis\n",
            "atnisu\n",
            "atnius\n",
            "atisun\n",
            "atisnu\n",
            "atiusn\n",
            "atiuns\n",
            "atinsu\n",
            "atinus\n"
          ]
        }
      ]
    },
    {
      "cell_type": "markdown",
      "source": [
        "## Q14. Implement a function to calculate the Fibonacci sequence up to a given number of terms.\n"
      ],
      "metadata": {
        "id": "67a3QhKTmJF_"
      }
    },
    {
      "cell_type": "code",
      "source": [
        "def fibon(n):\n",
        "  a,b=0,1\n",
        "  for i in range(2,n+1):\n",
        "    print(a,end=\" \")\n",
        "    a,b=b,a+b\n",
        "\n",
        "print(fibon(9))"
      ],
      "metadata": {
        "colab": {
          "base_uri": "https://localhost:8080/"
        },
        "id": "1O9kr5yRmB9J",
        "outputId": "3650ef70-c1a5-4e43-8bd0-6a1062347f9e"
      },
      "execution_count": 14,
      "outputs": [
        {
          "output_type": "stream",
          "name": "stdout",
          "text": [
            "0 1 1 2 3 5 8 13 None\n"
          ]
        }
      ]
    },
    {
      "cell_type": "markdown",
      "source": [
        "## Q 15. Write a program to find the median of a list of numbers.\n"
      ],
      "metadata": {
        "id": "EvP64bT9ohC2"
      }
    },
    {
      "cell_type": "code",
      "source": [
        "import numpy as np\n",
        "list=[3,2,4,9,12,35]\n",
        "print(\"The original list : \", list)\n",
        "\n",
        "med=np.median(list)\n",
        "\n",
        "print(\"Median of list is : \", med)\n",
        "\n",
        "\n"
      ],
      "metadata": {
        "colab": {
          "base_uri": "https://localhost:8080/"
        },
        "id": "7Dc8qQkBoFga",
        "outputId": "daae7d94-db45-48d9-ffae-a4ce7ea12f1f"
      },
      "execution_count": 15,
      "outputs": [
        {
          "output_type": "stream",
          "name": "stdout",
          "text": [
            "The original list :  [3, 2, 4, 9, 12, 35]\n",
            "Median of list is :  6.5\n"
          ]
        }
      ]
    },
    {
      "cell_type": "markdown",
      "source": [
        "##  Q16. Implement a function to check if a given list is sorted in non-decreasing order."
      ],
      "metadata": {
        "id": "pvPgJlP1p8aJ"
      }
    },
    {
      "cell_type": "code",
      "source": [
        "def is_sorted(lst):\n",
        "    for i in range(len(lst) - 1):\n",
        "        if lst[i] > lst[i + 1]:\n",
        "            return False\n",
        "    return True\n",
        "\n",
        "# Example usage\n",
        "my_list = [1, 2, 3, 4, 5]\n",
        "if is_sorted(my_list):\n",
        "    print(\"The list is sorted in non-decreasing order.\")\n",
        "else:\n",
        "    print(\"The list is not sorted in non-decreasing order.\")\n"
      ],
      "metadata": {
        "colab": {
          "base_uri": "https://localhost:8080/"
        },
        "id": "3o4Fo_XdpnW8",
        "outputId": "3a10dab9-24d1-48d1-c401-ea7dd3dd1d30"
      },
      "execution_count": 16,
      "outputs": [
        {
          "output_type": "stream",
          "name": "stdout",
          "text": [
            "The list is sorted in non-decreasing order.\n"
          ]
        }
      ]
    },
    {
      "cell_type": "markdown",
      "source": [
        "## Q17. Write a Python program to find the intersection of two lists.\n"
      ],
      "metadata": {
        "id": "X0uiQma_qm2g"
      }
    },
    {
      "cell_type": "code",
      "source": [
        "def find_intersection(list1, list2):\n",
        "    intersection = []\n",
        "    for item in list1:\n",
        "        if item in list2 and item not in intersection:\n",
        "            intersection.append(item)\n",
        "    return intersection\n",
        "\n",
        "# Example usage\n",
        "list1 = [1, 2, 3, 4, 5]\n",
        "list2 = [4, 5, 6, 7, 8]\n",
        "intersection = find_intersection(list1, list2)\n",
        "print(\"Intersection:\", intersection)\n"
      ],
      "metadata": {
        "colab": {
          "base_uri": "https://localhost:8080/"
        },
        "id": "wA7JzgLHqeyw",
        "outputId": "6897d2e2-154e-46b1-d315-85f71067b220"
      },
      "execution_count": 17,
      "outputs": [
        {
          "output_type": "stream",
          "name": "stdout",
          "text": [
            "Intersection: [4, 5]\n"
          ]
        }
      ]
    },
    {
      "cell_type": "markdown",
      "source": [
        "## Q18. Implement a function to find the maximum subarray sum in a given list.\n"
      ],
      "metadata": {
        "id": "w4DSdlEOq5C3"
      }
    },
    {
      "cell_type": "code",
      "source": [
        "def find_max_subarray_sum(lst):\n",
        "    max_sum = float('-inf')\n",
        "    current_sum = 0\n",
        "\n",
        "    for num in lst:\n",
        "        current_sum = max(num, current_sum + num)\n",
        "        max_sum = max(max_sum, current_sum)\n",
        "\n",
        "    return max_sum\n",
        "\n",
        "# Example usage\n",
        "my_list = [-2, 1, -3, 4, -1, 2, 1, -5, 4]\n",
        "max_subarray_sum = find_max_subarray_sum(my_list)\n",
        "print(\"Maximum subarray sum:\", max_subarray_sum)\n"
      ],
      "metadata": {
        "colab": {
          "base_uri": "https://localhost:8080/"
        },
        "id": "W3owW1dkq1DF",
        "outputId": "dc07f439-9e1f-4cbe-9b2e-78ff357f3a9c"
      },
      "execution_count": 18,
      "outputs": [
        {
          "output_type": "stream",
          "name": "stdout",
          "text": [
            "Maximum subarray sum: 6\n"
          ]
        }
      ]
    },
    {
      "cell_type": "markdown",
      "source": [
        "## Q19. Write a program to remove all vowels from a given string.\n"
      ],
      "metadata": {
        "id": "IQtbg8XIrEQX"
      }
    },
    {
      "cell_type": "code",
      "source": [
        "def remove_vowels(string):\n",
        "    vowels = ['a', 'e', 'i', 'o', 'u', 'A', 'E', 'I', 'O', 'U']\n",
        "    result = \"\"\n",
        "    for char in string:\n",
        "        if char not in vowels:\n",
        "            result += char\n",
        "    return result\n",
        "\n",
        "# Example usage\n",
        "input_string = input(\"Enter a string: \")\n",
        "string_without_vowels = remove_vowels(input_string)\n",
        "print(\"String without vowels:\", string_without_vowels)\n"
      ],
      "metadata": {
        "colab": {
          "base_uri": "https://localhost:8080/"
        },
        "id": "zNDV8FFaq_bc",
        "outputId": "7f1c41ac-ea29-4e33-e403-bd79e8dfa036"
      },
      "execution_count": 19,
      "outputs": [
        {
          "output_type": "stream",
          "name": "stdout",
          "text": [
            "Enter a string: sunita\n",
            "String without vowels: snt\n"
          ]
        }
      ]
    },
    {
      "cell_type": "markdown",
      "source": [
        "## Q20. Implement a function to reverse the order of words in a given sentence.\n"
      ],
      "metadata": {
        "id": "2acTXPxoraLk"
      }
    },
    {
      "cell_type": "code",
      "source": [
        "def reverse_sentence(sentence):\n",
        "    words = sentence.split()\n",
        "    reversed_words = words[::-1]\n",
        "    reversed_sentence = ' '.join(reversed_words)\n",
        "    return reversed_sentence\n",
        "\n",
        "# Example usage\n",
        "input_sentence = input(\"Enter a sentence: \")\n",
        "reversed_sentence = reverse_sentence(input_sentence)\n",
        "print(\"Reversed sentence:\", reversed_sentence)\n"
      ],
      "metadata": {
        "colab": {
          "base_uri": "https://localhost:8080/"
        },
        "id": "RQSJOR1CrLNF",
        "outputId": "a75d137c-3183-411f-8883-b1bbcffce6d2"
      },
      "execution_count": 20,
      "outputs": [
        {
          "output_type": "stream",
          "name": "stdout",
          "text": [
            "Enter a sentence: i love python\n",
            "Reversed sentence: python love i\n"
          ]
        }
      ]
    },
    {
      "cell_type": "markdown",
      "source": [
        "## Q21. Write a Python program to check if two strings are anagrams of each other.\n"
      ],
      "metadata": {
        "id": "JdpUqPl53rb6"
      }
    },
    {
      "cell_type": "code",
      "source": [
        "def are_anagrams(string1, string2):\n",
        "    # Remove spaces and convert to lowercase\n",
        "    string1 = string1.replace(\" \", \"\").lower()\n",
        "    string2 = string2.replace(\" \", \"\").lower()\n",
        "\n",
        "    # Check if the lengths are equal\n",
        "    if len(string1) != len(string2):\n",
        "        return False\n",
        "\n",
        "    # Create dictionaries to count character occurrences\n",
        "    count1 = {}\n",
        "    count2 = {}\n",
        "\n",
        "    # Count character occurrences in string1\n",
        "    for char in string1:\n",
        "        if char in count1:\n",
        "            count1[char] += 1\n",
        "        else:\n",
        "            count1[char] = 1\n",
        "\n",
        "    # Count character occurrences in string2\n",
        "    for char in string2:\n",
        "        if char in count2:\n",
        "            count2[char] += 1\n",
        "        else:\n",
        "            count2[char] = 1\n",
        "\n",
        "    # Compare the dictionaries\n",
        "    if count1 == count2:\n",
        "        return True\n",
        "    else:\n",
        "        return False\n",
        "\n",
        "# Example usage\n",
        "input_string1 = input(\"Enter the first string: \")\n",
        "input_string2 = input(\"Enter the second string: \")\n",
        "\n",
        "if are_anagrams(input_string1, input_string2):\n",
        "    print(\"The strings are anagrams.\")\n",
        "else:\n",
        "    print(\"The strings are not anagrams.\")\n"
      ],
      "metadata": {
        "colab": {
          "base_uri": "https://localhost:8080/"
        },
        "id": "7F2Ofm-Crr_j",
        "outputId": "8a54af7d-a960-4df2-ef45-3f7cf9059b49"
      },
      "execution_count": 21,
      "outputs": [
        {
          "output_type": "stream",
          "name": "stdout",
          "text": [
            "Enter the first string: pythomm\n",
            "Enter the second string: python\n",
            "The strings are not anagrams.\n"
          ]
        }
      ]
    },
    {
      "cell_type": "markdown",
      "source": [
        "## Q22. Implement a function to find the first non-repeating character in a string.\n"
      ],
      "metadata": {
        "id": "un0AfcUx4Du9"
      }
    },
    {
      "cell_type": "code",
      "source": [
        "def find_first_non_repeating_char(string):\n",
        "    char_count = {}\n",
        "\n",
        "    for char in string:\n",
        "        if char in char_count:\n",
        "            char_count[char] += 1\n",
        "        else:\n",
        "            char_count[char] = 1\n",
        "\n",
        "    for char in string:\n",
        "        if char_count[char] == 1:\n",
        "            return char\n",
        "\n",
        "    return None\n",
        "\n",
        "# Example usage\n",
        "input_string = input(\"Enter a string: \")\n",
        "first_non_repeating_char = find_first_non_repeating_char(input_string)\n",
        "\n",
        "if first_non_repeating_char:\n",
        "    print(\"First non-repeating character:\", first_non_repeating_char)\n",
        "else:\n",
        "    print(\"No non-repeating character found.\")\n"
      ],
      "metadata": {
        "colab": {
          "base_uri": "https://localhost:8080/"
        },
        "id": "s4oWk3r74nyG",
        "outputId": "bc5d68a8-1640-4fb2-d949-6be0d01416cd"
      },
      "execution_count": 22,
      "outputs": [
        {
          "output_type": "stream",
          "name": "stdout",
          "text": [
            "Enter a string: i like python\n",
            "First non-repeating character: l\n"
          ]
        }
      ]
    },
    {
      "cell_type": "markdown",
      "source": [
        "## Q23. Write a program to find the prime factors of a given number.\n"
      ],
      "metadata": {
        "id": "Sp1otLQB381v"
      }
    },
    {
      "cell_type": "code",
      "source": [
        "def find_prime_factors(num):\n",
        "    prime_factors = []\n",
        "    divisor = 2\n",
        "\n",
        "    while divisor <= num:\n",
        "        if num % divisor == 0:\n",
        "            prime_factors.append(divisor)\n",
        "            num = num / divisor\n",
        "        else:\n",
        "            divisor += 1\n",
        "\n",
        "    return prime_factors\n",
        "\n",
        "# Example usage\n",
        "input_num = int(input(\"Enter a number: \"))\n",
        "prime_factors = find_prime_factors(input_num)\n",
        "print(\"Prime factors:\", prime_factors)\n"
      ],
      "metadata": {
        "colab": {
          "base_uri": "https://localhost:8080/"
        },
        "id": "ekjqCcCQ30DK",
        "outputId": "1c538e64-fa4c-4dc9-f894-f7e84a3bc465"
      },
      "execution_count": 23,
      "outputs": [
        {
          "output_type": "stream",
          "name": "stdout",
          "text": [
            "Enter a number: 34\n",
            "Prime factors: [2, 17]\n"
          ]
        }
      ]
    },
    {
      "cell_type": "markdown",
      "source": [
        "## Q24. Implement a function to check if a given number is a power of two.\n"
      ],
      "metadata": {
        "id": "--_oYZsm5BHb"
      }
    },
    {
      "cell_type": "code",
      "source": [
        "def is_power_of_two(n):\n",
        "    if n <= 0:\n",
        "        return False\n",
        "    return (n & (n - 1)) == 0\n",
        "\n",
        "print(is_power_of_two(16))  # True\n",
        "print(is_power_of_two(12))  # False\n",
        "print(is_power_of_two(0))   # False\n",
        "print(is_power_of_two(-8))  # False\n",
        "\n"
      ],
      "metadata": {
        "colab": {
          "base_uri": "https://localhost:8080/"
        },
        "id": "Xm7zqW_f4d3S",
        "outputId": "4b0bf961-74e8-4d6c-d548-739d6914e247"
      },
      "execution_count": 24,
      "outputs": [
        {
          "output_type": "stream",
          "name": "stdout",
          "text": [
            "True\n",
            "False\n",
            "False\n",
            "False\n"
          ]
        }
      ]
    },
    {
      "cell_type": "markdown",
      "source": [
        "## Q25. Write a Python program to merge two sorted lists into a single sorted list.\n"
      ],
      "metadata": {
        "id": "HXhdTPnR5Zeu"
      }
    },
    {
      "cell_type": "code",
      "source": [
        "list1=[2,4,6,3,7]\n",
        "list2=[4,3,5,3,6]\n",
        "\n",
        "print (\"The original list 1 is : \" ,list1)\n",
        "print (\"The original list 2 is : \" ,list2)\n",
        "\n",
        "res = sorted(list1 + list2)\n",
        "\n",
        "print (\"The combined sorted list is : \" ,res)\n"
      ],
      "metadata": {
        "colab": {
          "base_uri": "https://localhost:8080/"
        },
        "id": "SjqJBTkD5KSb",
        "outputId": "a4f4b3d4-224e-4bb3-9c22-05f8db437460"
      },
      "execution_count": 25,
      "outputs": [
        {
          "output_type": "stream",
          "name": "stdout",
          "text": [
            "The original list 1 is :  [2, 4, 6, 3, 7]\n",
            "The original list 2 is :  [4, 3, 5, 3, 6]\n",
            "The combined sorted list is :  [2, 3, 3, 3, 4, 4, 5, 6, 6, 7]\n"
          ]
        }
      ]
    },
    {
      "cell_type": "markdown",
      "source": [
        "## Q26. Implement a function to find the mode of a list of numbers.\n"
      ],
      "metadata": {
        "id": "2mfTolX56doM"
      }
    },
    {
      "cell_type": "code",
      "source": [
        "from collections import Counter\n",
        "\n",
        "def find_mode(numbers):\n",
        "    count = Counter(numbers)\n",
        "    max_count = max(count.values())\n",
        "    modes = [num for num, freq in count.items() if freq == max_count]\n",
        "    return modes\n",
        "\n",
        "numbers = [1, 2, 3, 4, 2, 3, 2, 2]\n",
        "print(find_mode(numbers))\n"
      ],
      "metadata": {
        "colab": {
          "base_uri": "https://localhost:8080/"
        },
        "id": "ynF081qQ6KKE",
        "outputId": "0a633f41-9226-426b-8dbb-3ee3be4a1e97"
      },
      "execution_count": 26,
      "outputs": [
        {
          "output_type": "stream",
          "name": "stdout",
          "text": [
            "[2]\n"
          ]
        }
      ]
    },
    {
      "cell_type": "markdown",
      "source": [
        "## Q27. Write a program to find the greatest common divisor (GCD) of two numbers.\n"
      ],
      "metadata": {
        "id": "RzBD32s06_Kk"
      }
    },
    {
      "cell_type": "code",
      "source": [
        "##import math\n",
        "\n",
        "### prints 12\n",
        "##print(\"The gcd of 60 and 48 is : \", end=\"\")\n",
        "##print(math.gcd(60, 48))\n",
        "\n",
        "\n",
        "\n",
        "def gcd(a, b):\n",
        "    while b != 0:\n",
        "        a, b = b, a % b\n",
        "    return a\n",
        "\n",
        "num1 = 60\n",
        "num2 = 48\n",
        "print(\"The GCD of\", num1, \"and\", num2, \"is:\", gcd(num1, num2))\n"
      ],
      "metadata": {
        "colab": {
          "base_uri": "https://localhost:8080/"
        },
        "id": "gdEPtKPy6y8C",
        "outputId": "7c3b09fe-4f94-4b6b-b7c6-ca79c4ecfc4e"
      },
      "execution_count": 27,
      "outputs": [
        {
          "output_type": "stream",
          "name": "stdout",
          "text": [
            "The GCD of 60 and 48 is: 12\n"
          ]
        }
      ]
    },
    {
      "cell_type": "markdown",
      "source": [
        "## Q28. Implement a function to calculate the square root of a given number.\n"
      ],
      "metadata": {
        "id": "0rMc76us8TDJ"
      }
    },
    {
      "cell_type": "code",
      "source": [
        "def square_root(n):\n",
        "    if n < 0:\n",
        "        raise ValueError(\"Cannot calculate square root of a negative number.\")\n",
        "    elif n == 0:\n",
        "        return 0\n",
        "\n",
        "    x = n\n",
        "    y = (x + 1) // 2\n",
        "    while y < x:\n",
        "        x = y\n",
        "        y = (x + n // x) // 2\n",
        "    return x\n",
        "\n",
        "num = 25\n",
        "print(\"The square root of\", num, \"is:\", square_root(num))\n",
        "\n"
      ],
      "metadata": {
        "colab": {
          "base_uri": "https://localhost:8080/"
        },
        "id": "OCv93YZN7O5D",
        "outputId": "46ce14eb-660a-464a-aae0-d1845ed5ea32"
      },
      "execution_count": 28,
      "outputs": [
        {
          "output_type": "stream",
          "name": "stdout",
          "text": [
            "The square root of 25 is: 5\n"
          ]
        }
      ]
    },
    {
      "cell_type": "markdown",
      "source": [
        "## Q29. Write a Python program to check if a given string is a valid palindrome ignoring non-alphanumeric characters.\n"
      ],
      "metadata": {
        "id": "XnARJeCy9Kj1"
      }
    },
    {
      "cell_type": "code",
      "source": [
        "def isPalindrome(string):\n",
        "    return string == string[::-1]\n",
        "\n",
        "\n",
        "# Driver code\n",
        "string1 = \"malayalam\"\n",
        "ans = isPalindrome(string1)\n",
        "\n",
        "\n",
        "\n",
        "if ans:\n",
        "    print(\"Yes\")\n",
        "else:\n",
        "    print(\"No\")"
      ],
      "metadata": {
        "colab": {
          "base_uri": "https://localhost:8080/"
        },
        "id": "5Au8fE7N9Ddx",
        "outputId": "76ced1fb-a827-4ed6-b4b7-7f8ebe353f5a"
      },
      "execution_count": 29,
      "outputs": [
        {
          "output_type": "stream",
          "name": "stdout",
          "text": [
            "Yes\n"
          ]
        }
      ]
    },
    {
      "cell_type": "markdown",
      "source": [
        "## Q30. Implement a function to find the minimum element in a rotated sorted list.\n"
      ],
      "metadata": {
        "id": "lZd9I2d2-gGb"
      }
    },
    {
      "cell_type": "code",
      "source": [
        "def find_min(nums):\n",
        "    left = 0\n",
        "    right = len(nums) - 1\n",
        "\n",
        "    while left < right:\n",
        "        mid = left + (right - left) // 2\n",
        "\n",
        "        if nums[mid] > nums[right]:\n",
        "            left = mid + 1\n",
        "        else:\n",
        "            right = mid\n",
        "\n",
        "    return nums[left]\n",
        "\n",
        "nums = [4, 5, 6, 7, 1, 2]\n",
        "print(\"The minimum element is:\", find_min(nums))\n"
      ],
      "metadata": {
        "colab": {
          "base_uri": "https://localhost:8080/"
        },
        "id": "EhxZbj4g-zFh",
        "outputId": "db3b3188-7e15-4fee-f9ff-d7ebf62b1458"
      },
      "execution_count": 30,
      "outputs": [
        {
          "output_type": "stream",
          "name": "stdout",
          "text": [
            "The minimum element is: 1\n"
          ]
        }
      ]
    },
    {
      "cell_type": "markdown",
      "source": [
        "## Q31. Write a program to find the sum of all even numbers in a list.\n"
      ],
      "metadata": {
        "id": "bv1V4WqY-7eh"
      }
    },
    {
      "cell_type": "code",
      "source": [
        "def sum_of_even_numbers(numbers):\n",
        "    sum_even = 0\n",
        "    for num in numbers:\n",
        "        if num % 2 == 0:\n",
        "            sum_even += num\n",
        "    return sum_even\n",
        "\n",
        "numbers = [1, 2, 3, 4, 5, 6, 7, 8, 9, 10]\n",
        "print(\"The sum of even numbers is:\", sum_of_even_numbers(numbers))\n"
      ],
      "metadata": {
        "colab": {
          "base_uri": "https://localhost:8080/"
        },
        "id": "WxmWe2MV-1yr",
        "outputId": "5db4b55f-d778-439c-e228-671d2d249056"
      },
      "execution_count": 31,
      "outputs": [
        {
          "output_type": "stream",
          "name": "stdout",
          "text": [
            "The sum of even numbers is: 30\n"
          ]
        }
      ]
    },
    {
      "cell_type": "markdown",
      "source": [
        "## Q32. Implement a function to calculate the power of a number using recursion.\n"
      ],
      "metadata": {
        "id": "7XyfvZ97_R4Y"
      }
    },
    {
      "cell_type": "code",
      "source": [
        "def power(base, exponent):\n",
        "    if exponent == 0:\n",
        "        return 1\n",
        "    elif exponent < 0:\n",
        "        return 1 / power(base, -exponent)\n",
        "    else:\n",
        "        return base * power(base, exponent - 1)\n",
        "\n",
        "base = 2\n",
        "exponent = 5\n",
        "print(\"Result:\", power(base, exponent))\n",
        "\n"
      ],
      "metadata": {
        "colab": {
          "base_uri": "https://localhost:8080/"
        },
        "id": "wqLAdL4d_LmC",
        "outputId": "7bb096a1-1f86-457d-f820-73c2af197788"
      },
      "execution_count": 32,
      "outputs": [
        {
          "output_type": "stream",
          "name": "stdout",
          "text": [
            "Result: 32\n"
          ]
        }
      ]
    },
    {
      "cell_type": "markdown",
      "source": [
        "## Q33. Write a Python program to remove duplicates from a list while preserving the order.\n"
      ],
      "metadata": {
        "id": "w52Seooj_wbi"
      }
    },
    {
      "cell_type": "code",
      "source": [
        "list=[1,3,2,1,4,6,5,2,6,4,3,8,6,8,9,7,0,98,7,6,4,3]\n",
        "list.sort()\n",
        "res=[]\n",
        "for i in list:\n",
        "  if i not in res:\n",
        "    res.append(i)\n",
        "print(res)\n",
        ""
      ],
      "metadata": {
        "colab": {
          "base_uri": "https://localhost:8080/"
        },
        "id": "FG_4i3jT_mI7",
        "outputId": "cf430f1c-22df-4c51-b5f4-8b2661d70fe1"
      },
      "execution_count": 33,
      "outputs": [
        {
          "output_type": "stream",
          "name": "stdout",
          "text": [
            "[0, 1, 2, 3, 4, 5, 6, 7, 8, 9, 98]\n"
          ]
        }
      ]
    },
    {
      "cell_type": "markdown",
      "source": [
        "## Q34. Implement a function to find the longest common prefix among a list of strings.\n"
      ],
      "metadata": {
        "id": "EvgrTFHEBT-i"
      }
    },
    {
      "cell_type": "code",
      "source": [
        "def longest_common_prefix(strs):\n",
        "    if not strs:\n",
        "        return \"\"\n",
        "\n",
        "    prefix = strs[0]\n",
        "    for i in range(1, len(strs)):\n",
        "        while strs[i].find(prefix) != 0:\n",
        "            prefix = prefix[:-1]\n",
        "            if not prefix:\n",
        "                return \"\"\n",
        "\n",
        "    return prefix\n",
        "\n",
        "strings1 = [\"flower\", \"flow\", \"flight\"]\n",
        "strings2 = [\"dog\", \"racecar\", \"car\"]\n",
        "print(\"Longest common prefix:\", longest_common_prefix(strings1))\n",
        "print(\"Longest common prefix:\", longest_common_prefix(strings2))\n"
      ],
      "metadata": {
        "colab": {
          "base_uri": "https://localhost:8080/"
        },
        "id": "FTfuMofHAncL",
        "outputId": "b056fdf6-629f-465f-bfdb-a4d4bd202bc6"
      },
      "execution_count": 34,
      "outputs": [
        {
          "output_type": "stream",
          "name": "stdout",
          "text": [
            "Longest common prefix: fl\n",
            "Longest common prefix: \n"
          ]
        }
      ]
    },
    {
      "cell_type": "markdown",
      "source": [
        "## Q35. Write a program to check if a given number is a perfect square.\n"
      ],
      "metadata": {
        "id": "sImC5WTpBsOz"
      }
    },
    {
      "cell_type": "code",
      "source": [
        "import math\n",
        "\n",
        "def is_perfect_square(num):\n",
        "    if num < 0:\n",
        "        return False\n",
        "\n",
        "    sqrt = int(math.sqrt(num))\n",
        "    return sqrt * sqrt == num\n",
        "\n",
        "\n",
        "print(is_perfect_square(16))    # True\n",
        "print(is_perfect_square(14))    # False\n",
        "print(is_perfect_square(0))     # True\n",
        "print(is_perfect_square(25))    # True\n",
        "print(is_perfect_square(-1))    # False\n",
        "\n"
      ],
      "metadata": {
        "colab": {
          "base_uri": "https://localhost:8080/"
        },
        "id": "V0SMJYX7BeRf",
        "outputId": "9fa968e6-74aa-4caf-9af7-c8366219b255"
      },
      "execution_count": 35,
      "outputs": [
        {
          "output_type": "stream",
          "name": "stdout",
          "text": [
            "True\n",
            "False\n",
            "True\n",
            "True\n",
            "False\n"
          ]
        }
      ]
    },
    {
      "cell_type": "markdown",
      "source": [
        "## Q36. Implement a function to calculate the product of all elements in a list.\n"
      ],
      "metadata": {
        "id": "sd5QH3q6Csj0"
      }
    },
    {
      "cell_type": "code",
      "source": [
        "def calculate_product(numbers):\n",
        "    product = 1\n",
        "    for num in numbers:\n",
        "        product *= num\n",
        "    return product\n",
        "\n",
        "numbers = [1, 2, 3, 4, 5]\n",
        "print(\"The product of all elements is:\", calculate_product(numbers))\n"
      ],
      "metadata": {
        "colab": {
          "base_uri": "https://localhost:8080/"
        },
        "id": "fHnd5B1vCNdn",
        "outputId": "6782156a-b1ac-4a57-f690-a309f12cf7ad"
      },
      "execution_count": 36,
      "outputs": [
        {
          "output_type": "stream",
          "name": "stdout",
          "text": [
            "The product of all elements is: 120\n"
          ]
        }
      ]
    },
    {
      "cell_type": "markdown",
      "source": [
        "## Q37. Write a Python program to reverse the order of words in a sentence while preserving the word order.\n"
      ],
      "metadata": {
        "id": "I5Zc-0cUDDof"
      }
    },
    {
      "cell_type": "code",
      "source": [
        "def reverse_sentence(sentence):\n",
        "    words = sentence.split()\n",
        "    reversed_words = words[::-1]\n",
        "    reversed_sentence = ' '.join(reversed_words)\n",
        "    return reversed_sentence\n",
        "\n",
        "sentence = \"Hello, how are you?\"\n",
        "print(\"Reversed sentence:\", reverse_sentence(sentence))\n"
      ],
      "metadata": {
        "colab": {
          "base_uri": "https://localhost:8080/"
        },
        "id": "hFLFnGAFC7QD",
        "outputId": "2b3fc0bb-7eba-4edd-cb1a-389df982d5e2"
      },
      "execution_count": 37,
      "outputs": [
        {
          "output_type": "stream",
          "name": "stdout",
          "text": [
            "Reversed sentence: you? are how Hello,\n"
          ]
        }
      ]
    },
    {
      "cell_type": "markdown",
      "source": [
        "## Q38. Implement a function to find the missing number in a given list of consecutive numbers.\n"
      ],
      "metadata": {
        "id": "aJOfGOgODcYs"
      }
    },
    {
      "cell_type": "code",
      "source": [
        "def find_missing_number(numbers):\n",
        "    n = len(numbers) + 1\n",
        "    expected_sum = (n * (n + 1)) // 2\n",
        "    actual_sum = sum(numbers)\n",
        "    missing_number = expected_sum - actual_sum\n",
        "    return missing_number\n",
        "\n",
        "numbers = [1, 2, 3, 5, 6, 7, 8, 9, 10]\n",
        "print(\"The missing number is:\", find_missing_number(numbers))\n"
      ],
      "metadata": {
        "colab": {
          "base_uri": "https://localhost:8080/"
        },
        "id": "0-_8taPGDQ86",
        "outputId": "e1b43d82-b8e0-474c-fff7-945065db3622"
      },
      "execution_count": 38,
      "outputs": [
        {
          "output_type": "stream",
          "name": "stdout",
          "text": [
            "The missing number is: 4\n"
          ]
        }
      ]
    },
    {
      "cell_type": "markdown",
      "source": [
        "## Q39. Write a program to find the sum of digits of a given number.\n"
      ],
      "metadata": {
        "id": "Jj1lTTp0DvDc"
      }
    },
    {
      "cell_type": "code",
      "source": [
        "def sum_of_digits(number):\n",
        "    sum_digits = 0\n",
        "    while number > 0:\n",
        "        digit = number % 10\n",
        "        sum_digits += digit\n",
        "        number //= 10\n",
        "    return sum_digits\n",
        "\n",
        "number = 12345\n",
        "print(\"Sum of digits:\", sum_of_digits(number))\n"
      ],
      "metadata": {
        "colab": {
          "base_uri": "https://localhost:8080/"
        },
        "id": "ZWJnGqMkDqCo",
        "outputId": "be6d632e-6afe-49ac-ed8d-889891f8def6"
      },
      "execution_count": 39,
      "outputs": [
        {
          "output_type": "stream",
          "name": "stdout",
          "text": [
            "Sum of digits: 15\n"
          ]
        }
      ]
    },
    {
      "cell_type": "markdown",
      "source": [
        "## Q40. Implement a function to check if a given string is a valid palindrome considering case sensitivity.\n"
      ],
      "metadata": {
        "id": "rrDVDggGELNB"
      }
    },
    {
      "cell_type": "code",
      "source": [
        "def is_valid_palindrome(string):\n",
        "    clean_string = ''.join(e for e in string if e.isalnum())\n",
        "    return clean_string == clean_string[::-1]\n",
        "\n",
        "string1 = \"A man, a plan, a canal: Panama\"\n",
        "string2 = \"racecar\"\n",
        "string3 = \"OpenAI\"\n",
        "print(is_valid_palindrome(string1))  # False\n",
        "print(is_valid_palindrome(string2))  # True\n",
        "print(is_valid_palindrome(string3))  # False\n",
        "\n"
      ],
      "metadata": {
        "colab": {
          "base_uri": "https://localhost:8080/"
        },
        "id": "Uquys-UDEHT3",
        "outputId": "823cfd8e-9b7c-4876-d121-acfb2480da24"
      },
      "execution_count": 40,
      "outputs": [
        {
          "output_type": "stream",
          "name": "stdout",
          "text": [
            "False\n",
            "True\n",
            "False\n"
          ]
        }
      ]
    },
    {
      "cell_type": "markdown",
      "source": [
        "## Q41. Write a Python program to find the smallest missing positive integer in a list.\n"
      ],
      "metadata": {
        "id": "MVZfcNVbEp9-"
      }
    },
    {
      "cell_type": "code",
      "source": [
        "def find_smallest_missing_positive(numbers):\n",
        "    # Move all non-positive numbers to the left\n",
        "    n = len(numbers)\n",
        "    i = 0\n",
        "    while i < n:\n",
        "        if numbers[i] <= 0 or numbers[i] > n:\n",
        "            i += 1\n",
        "        elif numbers[numbers[i] - 1] != numbers[i]:\n",
        "            numbers[numbers[i] - 1], numbers[i] = numbers[i], numbers[numbers[i] - 1]\n",
        "        else:\n",
        "            i += 1\n",
        "\n",
        "    # Find the first missing positive integer\n",
        "    for i in range(n):\n",
        "        if numbers[i] != i + 1:\n",
        "            return i + 1\n",
        "\n",
        "    return n + 1\n",
        "\n",
        "numbers = [3, 4, -1, 1]\n",
        "print(\"The smallest missing positive integer is:\", find_smallest_missing_positive(numbers))\n"
      ],
      "metadata": {
        "colab": {
          "base_uri": "https://localhost:8080/"
        },
        "id": "oIcWtf86EgBZ",
        "outputId": "9c44fe9a-6027-43ea-dce9-a08b5f6eb5f5"
      },
      "execution_count": 41,
      "outputs": [
        {
          "output_type": "stream",
          "name": "stdout",
          "text": [
            "The smallest missing positive integer is: 2\n"
          ]
        }
      ]
    },
    {
      "cell_type": "markdown",
      "source": [
        "## Q42. Implement a function to find the longest palindrome substring in a given string.\n"
      ],
      "metadata": {
        "id": "IeNHUxYSFHve"
      }
    },
    {
      "cell_type": "code",
      "source": [
        "def longest_palindrome(s):\n",
        "    if len(s) <= 1:\n",
        "        return s\n",
        "\n",
        "    start = 0\n",
        "    end = 0\n",
        "\n",
        "    for i in range(len(s)):\n",
        "        len1 = expand_around_center(s, i, i)\n",
        "        len2 = expand_around_center(s, i, i + 1)\n",
        "        length = max(len1, len2)\n",
        "\n",
        "        if length > end - start:\n",
        "            start = i - (length - 1) // 2\n",
        "            end = i + length // 2\n",
        "\n",
        "    return s[start : end + 1]\n",
        "\n",
        "def expand_around_center(s, left, right):\n",
        "    while left >= 0 and right < len(s) and s[left] == s[right]:\n",
        "        left -= 1\n",
        "        right += 1\n",
        "\n",
        "    return right - left - 1\n",
        "\n",
        "\n",
        "string = \"babad\"\n",
        "print(\"Longest palindrome substring:\", longest_palindrome(string))\n",
        "\n"
      ],
      "metadata": {
        "colab": {
          "base_uri": "https://localhost:8080/"
        },
        "id": "8iuhskvfFDA3",
        "outputId": "791a423f-b34b-4c9c-e8f1-7e8ddfaf35e8"
      },
      "execution_count": 42,
      "outputs": [
        {
          "output_type": "stream",
          "name": "stdout",
          "text": [
            "Longest palindrome substring: aba\n"
          ]
        }
      ]
    },
    {
      "cell_type": "markdown",
      "source": [
        "## Q43. Write a program to find the number of occurrences of a given element in a list.\n"
      ],
      "metadata": {
        "id": "RNOmoaZMFoDn"
      }
    },
    {
      "cell_type": "code",
      "source": [
        "def count_occurrences(lst, element):\n",
        "    count = 0\n",
        "    for item in lst:\n",
        "        if item == element:\n",
        "            count += 1\n",
        "    return count\n",
        "\n",
        "\n",
        "numbers = [1, 2, 3, 2, 4, 5, 3, 2, 6, 7, 2]\n",
        "element = 2\n",
        "print(\"Number of occurrences:\", count_occurrences(numbers, element))\n",
        "\n",
        "\n"
      ],
      "metadata": {
        "colab": {
          "base_uri": "https://localhost:8080/"
        },
        "id": "2AcSN91cFUfI",
        "outputId": "74eadc3d-b64e-4781-e11b-522c050fa9ff"
      },
      "execution_count": 43,
      "outputs": [
        {
          "output_type": "stream",
          "name": "stdout",
          "text": [
            "Number of occurrences: 4\n"
          ]
        }
      ]
    },
    {
      "cell_type": "markdown",
      "source": [
        "## Q44. Implement a function to check if a given number is a perfect number.\n"
      ],
      "metadata": {
        "id": "q5cBE1NzFnDW"
      }
    },
    {
      "cell_type": "code",
      "source": [
        "def is_perfect_number(number):\n",
        "    if number <= 0:\n",
        "        return False\n",
        "\n",
        "    divisors = []\n",
        "    for i in range(1, number):\n",
        "        if number % i == 0:\n",
        "            divisors.append(i)\n",
        "\n",
        "    sum_of_divisors = sum(divisors)\n",
        "    return sum_of_divisors == number\n",
        "\n",
        "number1 = 6\n",
        "number2 = 28\n",
        "number3 = 12\n",
        "print(is_perfect_number(number1))  # True\n",
        "print(is_perfect_number(number2))  # True\n",
        "print(is_perfect_number(number3))  # False\n"
      ],
      "metadata": {
        "colab": {
          "base_uri": "https://localhost:8080/"
        },
        "id": "CnJGIRYPF6_S",
        "outputId": "f4f15985-de47-492c-853a-f443ffddc7d8"
      },
      "execution_count": 44,
      "outputs": [
        {
          "output_type": "stream",
          "name": "stdout",
          "text": [
            "True\n",
            "True\n",
            "False\n"
          ]
        }
      ]
    },
    {
      "cell_type": "markdown",
      "source": [
        "## Q45. Write a Python program to remove all duplicates from a string.\n"
      ],
      "metadata": {
        "id": "mma5WjuuR3S8"
      }
    },
    {
      "cell_type": "code",
      "source": [
        "def remove_duplicates(string):\n",
        "    unique_chars = []\n",
        "    for char in string:\n",
        "        if char not in unique_chars:\n",
        "            unique_chars.append(char)\n",
        "    return ''.join(unique_chars)\n",
        "\n",
        "\n",
        "string = \"Hello, World!\"\n",
        "print(\"String after removing duplicates:\", remove_duplicates(string))\n",
        "\n"
      ],
      "metadata": {
        "colab": {
          "base_uri": "https://localhost:8080/"
        },
        "id": "F-7wRATMGl4L",
        "outputId": "b13ac7b7-702d-4a6e-8244-6f2e0f26743d"
      },
      "execution_count": 45,
      "outputs": [
        {
          "output_type": "stream",
          "name": "stdout",
          "text": [
            "String after removing duplicates: Helo, Wrd!\n"
          ]
        }
      ]
    },
    {
      "cell_type": "markdown",
      "source": [
        "## Q46. Implement a function to find the first missing positive\n"
      ],
      "metadata": {
        "id": "YKbF9eHUSVXm"
      }
    },
    {
      "cell_type": "code",
      "source": [
        "def remove_duplicates(string):\n",
        "    unique_chars = []\n",
        "    for char in string:\n",
        "        if char not in unique_chars:\n",
        "            unique_chars.append(char)\n",
        "    return ''.join(unique_chars)\n",
        "\n",
        "\n",
        "string = \"Hello, World!\"\n",
        "print(\"String after removing duplicates:\", remove_duplicates(string))\n"
      ],
      "metadata": {
        "colab": {
          "base_uri": "https://localhost:8080/"
        },
        "id": "uve6glG9SFKz",
        "outputId": "c90f2ebf-5f64-4aa3-f9b5-4d024580f51e"
      },
      "execution_count": 46,
      "outputs": [
        {
          "output_type": "stream",
          "name": "stdout",
          "text": [
            "String after removing duplicates: Helo, Wrd!\n"
          ]
        }
      ]
    },
    {
      "cell_type": "code",
      "source": [],
      "metadata": {
        "id": "-ML50yZmSkm0"
      },
      "execution_count": 46,
      "outputs": []
    }
  ]
}